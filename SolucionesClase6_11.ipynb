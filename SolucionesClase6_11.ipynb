{
 "cells": [
  {
   "cell_type": "code",
   "execution_count": 7,
   "metadata": {},
   "outputs": [
    {
     "name": "stdout",
     "output_type": "stream",
     "text": [
      "la Matriz D es :\n",
      "[[22753 22941 23065]\n",
      " [22710 22417 22625]\n",
      " [21302 21562 21765]]\n"
     ]
    }
   ],
   "source": [
    "import numpy as np\n",
    "\n",
    "F = np.array([[7 ,  6  , 15 ,17 , 18],\n",
    "              [5 ,  10 ,  20 , 13 , 12],\n",
    "               [8 ,  4  ,  12 , 18 , 9]])\n",
    "G = np.array([[1700 , 1750 ,  1800],\n",
    "                [868 ,  803 ,  840],\n",
    "                [165 , 160  , 150],\n",
    "                [70  ,  73  ,   65 ],\n",
    "                 [110 , 124  , 115 ] ])\n",
    "D= F@G\n",
    "print(\"la Matriz D es :\")\n",
    "print(D)"
   ]
  },
  {
   "cell_type": "markdown",
   "metadata": {},
   "source": [
    "la Matriz D es :\n",
    "Prov1    Prov2   Prov3  \n",
    "[[22753  22941   23065] sucursal 1\n",
    " [ [22710  22417  22625]] sucursal 2\n",
    " [21302   21562   21765]] sucursal 3"
   ]
  },
  {
   "cell_type": "markdown",
   "metadata": {},
   "source": [
    "Interpreta los elementos $d_{33}$ y $d_{21}$."
   ]
  },
  {
   "cell_type": "markdown",
   "metadata": {},
   "source": [
    "d33= 21765 # comprar todos los productos con el Proveedor 3 para sucursal 3 tiene un costo de $21.765.000\n",
    "d21= 22710 # comprar todos los productos con el Proveedor 1 para sucursal 2 tiene un costo de $22.710.000"
   ]
  },
  {
   "cell_type": "code",
   "execution_count": 6,
   "metadata": {},
   "outputs": [
    {
     "name": "stdout",
     "output_type": "stream",
     "text": [
      "66765\n",
      "66920\n",
      "67455\n",
      "el proveedor más barato es el 1 con $66.765.000\n"
     ]
    }
   ],
   "source": [
    "Proveedor_1= 22753+22710+21302\n",
    "Proveedor_2=22941+22417+21562\n",
    "Proveedor_3=23065+22625+21765\n",
    "print(Proveedor_1)\n",
    "print(Proveedor_2)\n",
    "print(Proveedor_3)\n",
    "print(\"el proveedor más barato es el 1 con $66.765.000\")"
   ]
  },
  {
   "cell_type": "code",
   "execution_count": 17,
   "metadata": {},
   "outputs": [
    {
     "name": "stdout",
     "output_type": "stream",
     "text": [
      "[[ 2.5 -0.5 -1.5]\n",
      " [ 0.5  0.5 -0.5]\n",
      " [-3.5  0.5  2.5]]\n",
      "\n",
      "\n",
      "[[ 1. -0.  0.]\n",
      " [ 0.  1.  0.]\n",
      " [ 0. -0.  1.]]\n",
      "\n",
      "[[1. 0. 0.]\n",
      " [0. 1. 0.]\n",
      " [0. 0. 1.]]\n"
     ]
    }
   ],
   "source": [
    "import numpy as np\n",
    "A = np.array([[3,1,2],\n",
    "              [1,2,1],\n",
    "               [4,1,3]])\n",
    "\n",
    "A_inv = np.linalg.inv(A) #Código para determinar la inversa\n",
    "I= np.round(A@A_inv)\n",
    "print(A_inv)\n",
    "print()\n",
    "I_inv=np.linalg.inv(I) #Código para determinar la inversa\n",
    "\n",
    "print()\n",
    "print(I)\n",
    "print()\n",
    "print(I_inv)\n"
   ]
  },
  {
   "cell_type": "code",
   "execution_count": 19,
   "metadata": {},
   "outputs": [
    {
     "name": "stdout",
     "output_type": "stream",
     "text": [
      "[[1.5]\n",
      " [2.5]]\n"
     ]
    }
   ],
   "source": [
    "import numpy as np\n",
    "A = np.array([[3,1],\n",
    "              [-2,4]])\n",
    "B= np.array([[7],\n",
    "             [7]])\n",
    "Ain=np.linalg.inv(A)\n",
    "soluciones=(Ain@B)\n",
    "print(soluciones)"
   ]
  },
  {
   "cell_type": "markdown",
   "metadata": {},
   "source": [
    "\n"
   ]
  },
  {
   "cell_type": "code",
   "execution_count": null,
   "metadata": {},
   "outputs": [],
   "source": []
  }
 ],
 "metadata": {
  "language_info": {
   "name": "python"
  }
 },
 "nbformat": 4,
 "nbformat_minor": 2
}
