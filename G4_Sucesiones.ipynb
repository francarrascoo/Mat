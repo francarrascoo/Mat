{
 "cells": [
  {
   "cell_type": "markdown",
   "metadata": {
    "id": "Jsg7AmugfdN3"
   },
   "source": [
    "# Problema 1"
   ]
  },
  {
   "cell_type": "markdown",
   "metadata": {
    "id": "_IzpNklvfgKe"
   },
   "source": [
    "Considere la sucesión $a_{n} = 3n^{2} + 7$. Por medio de un código en *Python* despliega en pantalla:\n",
    "\n",
    "1. Los primeros $5$ términos.\n",
    "2. Los $5$ términos que vienen inmediatamente después del decimoquinto término."
   ]
  },
  {
   "cell_type": "code",
   "execution_count": 2,
   "metadata": {},
   "outputs": [
    {
     "name": "stdout",
     "output_type": "stream",
     "text": [
      "Término 1: 10\n",
      "Término 2: 19\n",
      "Término 3: 34\n",
      "Término 4: 55\n",
      "Término 5: 82\n",
      "Término 6: 115\n",
      "Término 7: 154\n",
      "Término 8: 199\n",
      "Término 9: 250\n",
      "Término 10: 307\n",
      "Término 11: 370\n",
      "Término 12: 439\n",
      "Término 13: 514\n",
      "Término 14: 595\n",
      "Término 15: 682\n"
     ]
    }
   ],
   "source": [
    "for i in range (1,16):\n",
    "    s = 3*i**2 + 7\n",
    "    print(f\"Término {i}: {s}\")"
   ]
  },
  {
   "cell_type": "markdown",
   "metadata": {
    "id": "MpHLoYWfk97E"
   },
   "source": [
    "# Problema 2"
   ]
  },
  {
   "cell_type": "markdown",
   "metadata": {
    "id": "TdrPqS7Mk_l0"
   },
   "source": [
    "Considere la sucesión $g_{n} = 5n^{3}$. Implemente un código en *Python* que muestre en pantalla:\n",
    "\n",
    "1. Los primeros $4$ términos de la sucesión.\n",
    "2. Los $4$ términos que vienen inmediatamente después del octavo término.\n",
    "3. Determinar si el término $40.000$ pertenece a la sucesión. Si es así, indicar en qué posición se encuentra."
   ]
  },
  {
   "cell_type": "code",
   "execution_count": 4,
   "metadata": {},
   "outputs": [
    {
     "name": "stdout",
     "output_type": "stream",
     "text": [
      "Término 1: 5\n",
      "Término 2: 40\n",
      "Término 3: 135\n",
      "Término 4: 320\n",
      "Término 5: 625\n",
      "Término 6: 1080\n",
      "Término 7: 1715\n",
      "Término 8: 2560\n",
      "Término 9: 3645\n",
      "Término 10: 5000\n",
      "Término 11: 6655\n",
      "Término 12: 8640\n",
      "Término 13: 10985\n",
      "Término 14: 13720\n",
      "Término 15: 16875\n",
      "Término 16: 20480\n",
      "Término 17: 24565\n",
      "Término 18: 29160\n",
      "Término 19: 34295\n",
      "Término 20: 40000\n",
      "El término 20 es igual a 40000\n"
     ]
    }
   ],
   "source": [
    "for i in range (1,100):\n",
    "    s = 5*i**3\n",
    "    print(f\"Término {i}: {s}\")\n",
    "    if s == 40000:\n",
    "        print(f\"El término {i} es igual a 40000\")\n",
    "        break"
   ]
  },
  {
   "cell_type": "markdown",
   "metadata": {
    "id": "7GDU-KDLuR7i"
   },
   "source": [
    "# Problema 3"
   ]
  },
  {
   "cell_type": "markdown",
   "metadata": {
    "id": "GG1duXd1uU6Z"
   },
   "source": [
    "La sucesión de Fibonacci es una serie de números en la que cada número, desde el tercero en adelante, es la suma de los dos anteriores. Comienza con el $0$ y $1$, tal como se observa a continuación:\n",
    "\n",
    "$$0, 1, 1, 2, 3, 5, 8, 13, ...$$\n",
    "\n",
    "Formalmente, la sucesión se define de la siguiente manera:\n",
    "\n",
    "\\begin{split}\n",
    "F(0) &= 0\\\\\n",
    "F(1) &= 1\\\\\n",
    "F(n) &= F(n - 1) + F(n - 2), \\ \\text{ para $n \\geq 2$}\n",
    "\\end{split}\n",
    "\n",
    "Esta sucesión se utiliza en una variedad de contextos en informática y algoritmos debido a sus propiedades matemáticas y patrones.\n",
    "\n",
    "1. Implementa un código en *Python* que muestre en pantalla los primeros $20$ términos de la sucesión.\n",
    "2. Calcula, utilizando un ciclo *for*, la suma de los primeros $30$ términos de la sucesión de Fibonacci."
   ]
  },
  {
   "cell_type": "code",
   "execution_count": 5,
   "metadata": {},
   "outputs": [
    {
     "name": "stdout",
     "output_type": "stream",
     "text": [
      "Primeros 20 términos de Fibonacci: [0, 1, 1, 2, 3, 5, 8, 13, 21, 34, 55, 89, 144, 233, 377, 610, 987, 1597, 2584, 4181]\n"
     ]
    }
   ],
   "source": [
    "f = [0, 1]\n",
    "for i in range(2, 30):\n",
    "    f.append(f[-1] + f[-2])\n",
    "\n",
    "print(\"Primeros 20 términos de Fibonacci:\", f[:20])"
   ]
  },
  {
   "cell_type": "markdown",
   "metadata": {
    "id": "OFL3b7nt8Rq_"
   },
   "source": [
    "# Problema 4"
   ]
  },
  {
   "cell_type": "markdown",
   "metadata": {
    "id": "j5QlZQwJSDsZ"
   },
   "source": [
    "Implementa un código que permita guardar en una lista la sucesión de los primeros $n$ números pares, con $n \\geq 1$. Luego, determina:\n",
    "\n",
    "1. ¿Cuál es el valor del décimo término?\n",
    "2. Calcula, utilizando un ciclo *for*, la suma de los primeros $100$ números pares.\n",
    "3. ¿En qué posición se encuentra el número $58$ dentro de la sucesión?"
   ]
  },
  {
   "cell_type": "code",
   "execution_count": 19,
   "metadata": {},
   "outputs": [
    {
     "name": "stdout",
     "output_type": "stream",
     "text": [
      "El número 58 se encuentra en la posición 29 de la lista de números pares\n",
      "El decimo valor de la los primeros 100 números pares es: 20\n",
      "La suma de los primeros 100 numeros pares es 10100\n"
     ]
    }
   ],
   "source": [
    "pares = []\n",
    "for i in range (1,201):\n",
    "    if i % 2 == 0:\n",
    "        pares.append(i)\n",
    "\n",
    "for i in pares:\n",
    "    if pares[i] == 58:\n",
    "        print(f\"El número 58 se encuentra en la posición {i+1} de la lista de números pares\")\n",
    "        break\n",
    "\n",
    "print(\"El decimo valor de la los primeros 100 números pares es:\", pares[9])\n",
    "print(f\"La suma de los primeros 100 numeros pares es {sum(pares)}\")\n"
   ]
  },
  {
   "cell_type": "markdown",
   "metadata": {
    "id": "gBcDYpK2Z3GT"
   },
   "source": [
    "# Problema 5"
   ]
  },
  {
   "cell_type": "markdown",
   "metadata": {
    "id": "eS3i68R4Z6YQ"
   },
   "source": [
    "Un nuevo software tiene $500$ usuarios y se espera que el número de usuarios crezca un $15\\%$ respecto al mes anterior. Considere que $b_{n}$ es el número de usuarios transcurridos $n$ meses.\n",
    "\n",
    "1. Calcula cuántos usuarios tendrá el software al cabo de tres meses. ¿Y al cabo de seis meses?\n",
    "2. Mediante un código en *Pyhton* muestra la cantidad de usuarios que tendrá el software cada mes durante el primer año.\n",
    "2. ¿Cuántos usuarios tendrá en total el software luego de un año? Utilice ciclos *for* para calcular."
   ]
  },
  {
   "cell_type": "code",
   "execution_count": 21,
   "metadata": {},
   "outputs": [
    {
     "name": "stdout",
     "output_type": "stream",
     "text": [
      "Mes 1: 575.0\n",
      "Mes 2: 661.2499999999999\n",
      "Mes 3: 760.4374999999999\n",
      "Mes 4: 874.5031249999997\n",
      "Mes 5: 1005.6785937499997\n",
      "Mes 6: 1156.5303828124995\n",
      "Mes 7: 1330.0099402343744\n",
      "Mes 8: 1529.5114312695305\n",
      "Mes 9: 1758.9381459599597\n",
      "Mes 10: 2022.7788678539534\n",
      "Mes 11: 2326.195698032046\n",
      "Mes 12: 2675.125052736853\n",
      "La suma de los 12 meses es: 16675.958737649216\n"
     ]
    }
   ],
   "source": [
    "suma = 0\n",
    "for i in range (1,13):\n",
    "    s = 500*(1.15)**i\n",
    "    suma += s\n",
    "    print(f\"Mes {i}: {s}\")\n",
    "print(f\"La suma de los 12 meses es: {suma}\")"
   ]
  },
  {
   "cell_type": "markdown",
   "metadata": {
    "id": "s2hruXWnJDbS"
   },
   "source": [
    "# Problema 6"
   ]
  },
  {
   "cell_type": "markdown",
   "metadata": {
    "id": "hH_VNmA_Og0U"
   },
   "source": [
    "Un estudiante de ingeniería informática planea ahorrar para un proyecto personal. Para esto, el primer mes deposita en una cuenta $\\$12.000$, el segundo mes deposita $\\$14.000$ y así sucesivamente, de modo que cada mes aumenta el depósito en $\\$2.000$. Considere que $a_{i}$ corresponde al depósito del estudiante en el mes $i$.\n",
    "\n",
    "1. Implementa un código que permita mostrar en pantalla lo que depositó mensualmente durante el primer año.\n",
    "2. ¿Cuánto depositó el estudiante en febrero del segundo año?\n",
    "3. ¿Cuál será el total ahorrado al finalizar dos años?"
   ]
  },
  {
   "cell_type": "code",
   "execution_count": 32,
   "metadata": {},
   "outputs": [
    {
     "name": "stdout",
     "output_type": "stream",
     "text": [
      "Mes 1: 12000\n",
      "Mes 2: 14000\n",
      "Mes 3: 16000\n",
      "Mes 4: 18000\n",
      "Mes 5: 20000\n",
      "Mes 6: 22000\n",
      "Mes 7: 24000\n",
      "Mes 8: 26000\n",
      "Mes 9: 28000\n",
      "Mes 10: 30000\n",
      "Mes 11: 32000\n",
      "Mes 12: 34000\n",
      "Mes 13: 36000\n",
      "Mes 14: 38000\n",
      "Mes 15: 40000\n",
      "Mes 16: 42000\n",
      "Mes 17: 44000\n",
      "Mes 18: 46000\n",
      "Mes 19: 48000\n",
      "Mes 20: 50000\n",
      "Mes 21: 52000\n",
      "Mes 22: 54000\n",
      "Mes 23: 56000\n",
      "Mes 24: 58000\n",
      "La suma de los 24 meses es: 840000\n"
     ]
    }
   ],
   "source": [
    "suma = 0\n",
    "for i in range (1,25):\n",
    "    s = 12000 + 2000*(i-1)\n",
    "    suma += s\n",
    "    print(f\"Mes {i}: {s}\")\n",
    "print(f\"La suma de los 24 meses es: {suma}\")"
   ]
  },
  {
   "cell_type": "markdown",
   "metadata": {
    "id": "G9sEfl4rB3e8"
   },
   "source": [
    "# Problema 7"
   ]
  },
  {
   "cell_type": "markdown",
   "metadata": {
    "id": "KZUNnG20CT4F"
   },
   "source": [
    "Por lo general, los proyectos son organizados en varias etapas que deben completarse secuencialmente.\n",
    "\n",
    "La fase inicial de un proyecto de software tiene una duración de $3$ meses y cada fase subsecuente reduce su duración en un $10 \\%$ debido a la experiencia ganada. Determine:\n",
    "\n",
    "1. ¿Cuánto dura la quinta fase?\n",
    "2. Calcula la duración total del proyecto después de $10$ fases."
   ]
  },
  {
   "cell_type": "code",
   "execution_count": 39,
   "metadata": {},
   "outputs": [
    {
     "name": "stdout",
     "output_type": "stream",
     "text": [
      "Fase 1: 3.0 meses\n",
      "Fase 2: 2.7 meses\n",
      "Fase 3: 2.43 meses\n",
      "Fase 4: 2.1870000000000003 meses\n",
      "Fase 5: 1.9683000000000002 meses\n",
      "Fase 6: 1.7714700000000003 meses\n",
      "Fase 7: 1.5943230000000002 meses\n",
      "Fase 8: 1.4348907000000002 meses\n",
      "Fase 9: 1.2914016300000002 meses\n",
      "Fase 10: 1.1622614670000002 meses\n"
     ]
    }
   ],
   "source": [
    "for i in range (1,11):\n",
    "    s = 3 * (1-0.1)**(i-1)\n",
    "    print(f\"Fase {i}: {s} meses\")"
   ]
  },
  {
   "cell_type": "markdown",
   "metadata": {
    "id": "keVOy_xIlU1E"
   },
   "source": [
    "# Problema 8"
   ]
  },
  {
   "cell_type": "markdown",
   "metadata": {
    "id": "QXrNG-zulXil"
   },
   "source": [
    "En una sucesión aritmética, la diferencia entre un término y el anterior es $4$ y el décimo término es $-20$. Determine:\n",
    "\n",
    "1. El primer término de la sucesión.\n",
    "2. La expresión del término de lugar $n$.\n",
    "3. Utilice un código en *Python* para calcular el término que ocupa el lugar $100$.\n",
    "4. Determinar la posición del número $1.680$ en la secuencia. Calcule utilizando un ciclo *while*."
   ]
  },
  {
   "cell_type": "code",
   "execution_count": 44,
   "metadata": {},
   "outputs": [
    {
     "name": "stdout",
     "output_type": "stream",
     "text": [
      "-56\n",
      "Término 1: -56\n",
      "Término 2: -52\n",
      "Término 3: -48\n",
      "Término 4: -44\n",
      "Término 5: -40\n",
      "Término 6: -36\n",
      "Término 7: -32\n",
      "Término 8: -28\n",
      "Término 9: -24\n",
      "Término 10: -20\n",
      "Término 11: -16\n",
      "Término 12: -12\n",
      "Término 13: -8\n",
      "Término 14: -4\n",
      "Término 15: 0\n",
      "Término 16: 4\n",
      "Término 17: 8\n",
      "Término 18: 12\n",
      "Término 19: 16\n",
      "Término 20: 20\n",
      "Término 21: 24\n",
      "Término 22: 28\n",
      "Término 23: 32\n",
      "Término 24: 36\n",
      "Término 25: 40\n",
      "Término 26: 44\n",
      "Término 27: 48\n",
      "Término 28: 52\n",
      "Término 29: 56\n",
      "Término 30: 60\n",
      "Término 31: 64\n",
      "Término 32: 68\n",
      "Término 33: 72\n",
      "Término 34: 76\n",
      "Término 35: 80\n",
      "Término 36: 84\n",
      "Término 37: 88\n",
      "Término 38: 92\n",
      "Término 39: 96\n",
      "Término 40: 100\n",
      "Término 41: 104\n",
      "Término 42: 108\n",
      "Término 43: 112\n",
      "Término 44: 116\n",
      "Término 45: 120\n",
      "Término 46: 124\n",
      "Término 47: 128\n",
      "Término 48: 132\n",
      "Término 49: 136\n",
      "Término 50: 140\n",
      "Término 51: 144\n",
      "Término 52: 148\n",
      "Término 53: 152\n",
      "Término 54: 156\n",
      "Término 55: 160\n",
      "Término 56: 164\n",
      "Término 57: 168\n",
      "Término 58: 172\n",
      "Término 59: 176\n",
      "Término 60: 180\n",
      "Término 61: 184\n",
      "Término 62: 188\n",
      "Término 63: 192\n",
      "Término 64: 196\n",
      "Término 65: 200\n",
      "Término 66: 204\n",
      "Término 67: 208\n",
      "Término 68: 212\n",
      "Término 69: 216\n",
      "Término 70: 220\n",
      "Término 71: 224\n",
      "Término 72: 228\n",
      "Término 73: 232\n",
      "Término 74: 236\n",
      "Término 75: 240\n",
      "Término 76: 244\n",
      "Término 77: 248\n",
      "Término 78: 252\n",
      "Término 79: 256\n",
      "Término 80: 260\n",
      "Término 81: 264\n",
      "Término 82: 268\n",
      "Término 83: 272\n",
      "Término 84: 276\n",
      "Término 85: 280\n",
      "Término 86: 284\n",
      "Término 87: 288\n",
      "Término 88: 292\n",
      "Término 89: 296\n",
      "Término 90: 300\n",
      "Término 91: 304\n",
      "Término 92: 308\n",
      "Término 93: 312\n",
      "Término 94: 316\n",
      "Término 95: 320\n",
      "Término 96: 324\n",
      "Término 97: 328\n",
      "Término 98: 332\n",
      "Término 99: 336\n",
      "Término 100: 340\n",
      "Término 101: 344\n",
      "Término 102: 348\n",
      "Término 103: 352\n",
      "Término 104: 356\n",
      "Término 105: 360\n",
      "Término 106: 364\n",
      "Término 107: 368\n",
      "Término 108: 372\n",
      "Término 109: 376\n",
      "Término 110: 380\n",
      "Término 111: 384\n",
      "Término 112: 388\n",
      "Término 113: 392\n",
      "Término 114: 396\n",
      "Término 115: 400\n",
      "Término 116: 404\n",
      "Término 117: 408\n",
      "Término 118: 412\n",
      "Término 119: 416\n",
      "Término 120: 420\n",
      "Término 121: 424\n",
      "Término 122: 428\n",
      "Término 123: 432\n",
      "Término 124: 436\n",
      "Término 125: 440\n",
      "Término 126: 444\n",
      "Término 127: 448\n",
      "Término 128: 452\n",
      "Término 129: 456\n",
      "Término 130: 460\n",
      "Término 131: 464\n",
      "Término 132: 468\n",
      "Término 133: 472\n",
      "Término 134: 476\n",
      "Término 135: 480\n",
      "Término 136: 484\n",
      "Término 137: 488\n",
      "Término 138: 492\n",
      "Término 139: 496\n",
      "Término 140: 500\n",
      "Término 141: 504\n",
      "Término 142: 508\n",
      "Término 143: 512\n",
      "Término 144: 516\n",
      "Término 145: 520\n",
      "Término 146: 524\n",
      "Término 147: 528\n",
      "Término 148: 532\n",
      "Término 149: 536\n",
      "Término 150: 540\n",
      "Término 151: 544\n",
      "Término 152: 548\n",
      "Término 153: 552\n",
      "Término 154: 556\n",
      "Término 155: 560\n",
      "Término 156: 564\n",
      "Término 157: 568\n",
      "Término 158: 572\n",
      "Término 159: 576\n",
      "Término 160: 580\n",
      "Término 161: 584\n",
      "Término 162: 588\n",
      "Término 163: 592\n",
      "Término 164: 596\n",
      "Término 165: 600\n",
      "Término 166: 604\n",
      "Término 167: 608\n",
      "Término 168: 612\n",
      "Término 169: 616\n",
      "Término 170: 620\n",
      "Término 171: 624\n",
      "Término 172: 628\n",
      "Término 173: 632\n",
      "Término 174: 636\n",
      "Término 175: 640\n",
      "Término 176: 644\n",
      "Término 177: 648\n",
      "Término 178: 652\n",
      "Término 179: 656\n",
      "Término 180: 660\n",
      "Término 181: 664\n",
      "Término 182: 668\n",
      "Término 183: 672\n",
      "Término 184: 676\n",
      "Término 185: 680\n",
      "Término 186: 684\n",
      "Término 187: 688\n",
      "Término 188: 692\n",
      "Término 189: 696\n",
      "Término 190: 700\n",
      "Término 191: 704\n",
      "Término 192: 708\n",
      "Término 193: 712\n",
      "Término 194: 716\n",
      "Término 195: 720\n",
      "Término 196: 724\n",
      "Término 197: 728\n",
      "Término 198: 732\n",
      "Término 199: 736\n",
      "Término 200: 740\n",
      "Término 201: 744\n",
      "Término 202: 748\n",
      "Término 203: 752\n",
      "Término 204: 756\n",
      "Término 205: 760\n",
      "Término 206: 764\n",
      "Término 207: 768\n",
      "Término 208: 772\n",
      "Término 209: 776\n",
      "Término 210: 780\n",
      "Término 211: 784\n",
      "Término 212: 788\n",
      "Término 213: 792\n",
      "Término 214: 796\n",
      "Término 215: 800\n",
      "Término 216: 804\n",
      "Término 217: 808\n",
      "Término 218: 812\n",
      "Término 219: 816\n",
      "Término 220: 820\n",
      "Término 221: 824\n",
      "Término 222: 828\n",
      "Término 223: 832\n",
      "Término 224: 836\n",
      "Término 225: 840\n",
      "Término 226: 844\n",
      "Término 227: 848\n",
      "Término 228: 852\n",
      "Término 229: 856\n",
      "Término 230: 860\n",
      "Término 231: 864\n",
      "Término 232: 868\n",
      "Término 233: 872\n",
      "Término 234: 876\n",
      "Término 235: 880\n",
      "Término 236: 884\n",
      "Término 237: 888\n",
      "Término 238: 892\n",
      "Término 239: 896\n",
      "Término 240: 900\n",
      "Término 241: 904\n",
      "Término 242: 908\n",
      "Término 243: 912\n",
      "Término 244: 916\n",
      "Término 245: 920\n",
      "Término 246: 924\n",
      "Término 247: 928\n",
      "Término 248: 932\n",
      "Término 249: 936\n",
      "Término 250: 940\n",
      "Término 251: 944\n",
      "Término 252: 948\n",
      "Término 253: 952\n",
      "Término 254: 956\n",
      "Término 255: 960\n",
      "Término 256: 964\n",
      "Término 257: 968\n",
      "Término 258: 972\n",
      "Término 259: 976\n",
      "Término 260: 980\n",
      "Término 261: 984\n",
      "Término 262: 988\n",
      "Término 263: 992\n",
      "Término 264: 996\n",
      "Término 265: 1000\n",
      "Término 266: 1004\n",
      "Término 267: 1008\n",
      "Término 268: 1012\n",
      "Término 269: 1016\n",
      "Término 270: 1020\n",
      "Término 271: 1024\n",
      "Término 272: 1028\n",
      "Término 273: 1032\n",
      "Término 274: 1036\n",
      "Término 275: 1040\n",
      "Término 276: 1044\n",
      "Término 277: 1048\n",
      "Término 278: 1052\n",
      "Término 279: 1056\n",
      "Término 280: 1060\n",
      "Término 281: 1064\n",
      "Término 282: 1068\n",
      "Término 283: 1072\n",
      "Término 284: 1076\n",
      "Término 285: 1080\n",
      "Término 286: 1084\n",
      "Término 287: 1088\n",
      "Término 288: 1092\n",
      "Término 289: 1096\n",
      "Término 290: 1100\n",
      "Término 291: 1104\n",
      "Término 292: 1108\n",
      "Término 293: 1112\n",
      "Término 294: 1116\n",
      "Término 295: 1120\n",
      "Término 296: 1124\n",
      "Término 297: 1128\n",
      "Término 298: 1132\n",
      "Término 299: 1136\n",
      "Término 300: 1140\n",
      "Término 301: 1144\n",
      "Término 302: 1148\n",
      "Término 303: 1152\n",
      "Término 304: 1156\n",
      "Término 305: 1160\n",
      "Término 306: 1164\n",
      "Término 307: 1168\n",
      "Término 308: 1172\n",
      "Término 309: 1176\n",
      "Término 310: 1180\n",
      "Término 311: 1184\n",
      "Término 312: 1188\n",
      "Término 313: 1192\n",
      "Término 314: 1196\n",
      "Término 315: 1200\n",
      "Término 316: 1204\n",
      "Término 317: 1208\n",
      "Término 318: 1212\n",
      "Término 319: 1216\n",
      "Término 320: 1220\n",
      "Término 321: 1224\n",
      "Término 322: 1228\n",
      "Término 323: 1232\n",
      "Término 324: 1236\n",
      "Término 325: 1240\n",
      "Término 326: 1244\n",
      "Término 327: 1248\n",
      "Término 328: 1252\n",
      "Término 329: 1256\n",
      "Término 330: 1260\n",
      "Término 331: 1264\n",
      "Término 332: 1268\n",
      "Término 333: 1272\n",
      "Término 334: 1276\n",
      "Término 335: 1280\n",
      "Término 336: 1284\n",
      "Término 337: 1288\n",
      "Término 338: 1292\n",
      "Término 339: 1296\n",
      "Término 340: 1300\n",
      "Término 341: 1304\n",
      "Término 342: 1308\n",
      "Término 343: 1312\n",
      "Término 344: 1316\n",
      "Término 345: 1320\n",
      "Término 346: 1324\n",
      "Término 347: 1328\n",
      "Término 348: 1332\n",
      "Término 349: 1336\n",
      "Término 350: 1340\n",
      "Término 351: 1344\n",
      "Término 352: 1348\n",
      "Término 353: 1352\n",
      "Término 354: 1356\n",
      "Término 355: 1360\n",
      "Término 356: 1364\n",
      "Término 357: 1368\n",
      "Término 358: 1372\n",
      "Término 359: 1376\n",
      "Término 360: 1380\n",
      "Término 361: 1384\n",
      "Término 362: 1388\n",
      "Término 363: 1392\n",
      "Término 364: 1396\n",
      "Término 365: 1400\n",
      "Término 366: 1404\n",
      "Término 367: 1408\n",
      "Término 368: 1412\n",
      "Término 369: 1416\n",
      "Término 370: 1420\n",
      "Término 371: 1424\n",
      "Término 372: 1428\n",
      "Término 373: 1432\n",
      "Término 374: 1436\n",
      "Término 375: 1440\n",
      "Término 376: 1444\n",
      "Término 377: 1448\n",
      "Término 378: 1452\n",
      "Término 379: 1456\n",
      "Término 380: 1460\n",
      "Término 381: 1464\n",
      "Término 382: 1468\n",
      "Término 383: 1472\n",
      "Término 384: 1476\n",
      "Término 385: 1480\n",
      "Término 386: 1484\n",
      "Término 387: 1488\n",
      "Término 388: 1492\n",
      "Término 389: 1496\n",
      "Término 390: 1500\n",
      "Término 391: 1504\n",
      "Término 392: 1508\n",
      "Término 393: 1512\n",
      "Término 394: 1516\n",
      "Término 395: 1520\n",
      "Término 396: 1524\n",
      "Término 397: 1528\n",
      "Término 398: 1532\n",
      "Término 399: 1536\n",
      "Término 400: 1540\n",
      "Término 401: 1544\n",
      "Término 402: 1548\n",
      "Término 403: 1552\n",
      "Término 404: 1556\n",
      "Término 405: 1560\n",
      "Término 406: 1564\n",
      "Término 407: 1568\n",
      "Término 408: 1572\n",
      "Término 409: 1576\n",
      "Término 410: 1580\n",
      "Término 411: 1584\n",
      "Término 412: 1588\n",
      "Término 413: 1592\n",
      "Término 414: 1596\n",
      "Término 415: 1600\n",
      "Término 416: 1604\n",
      "Término 417: 1608\n",
      "Término 418: 1612\n",
      "Término 419: 1616\n",
      "Término 420: 1620\n",
      "Término 421: 1624\n",
      "Término 422: 1628\n",
      "Término 423: 1632\n",
      "Término 424: 1636\n",
      "Término 425: 1640\n",
      "Término 426: 1644\n",
      "Término 427: 1648\n",
      "Término 428: 1652\n",
      "Término 429: 1656\n",
      "Término 430: 1660\n",
      "Término 431: 1664\n",
      "Término 432: 1668\n",
      "Término 433: 1672\n",
      "Término 434: 1676\n",
      "Término 435: 1680\n",
      "El término 435 es igual a 1680\n"
     ]
    }
   ],
   "source": [
    "a10 = -20  \n",
    "d = 4 \n",
    "n = 10 \n",
    "\n",
    "a1 = a10 - (n - 1) * d\n",
    "print(a1) \n",
    "\n",
    "for i in range (1,1001):\n",
    "    s = -56 + 4*(i-1)\n",
    "    print(f\"Término {i}: {s}\")\n",
    "    if s == 1680:\n",
    "        print(f\"El término {i} es igual a 1680\")\n",
    "        break"
   ]
  },
  {
   "cell_type": "markdown",
   "metadata": {
    "id": "gFYqGSbdqoqT"
   },
   "source": [
    "# Problema 9"
   ]
  },
  {
   "cell_type": "markdown",
   "metadata": {
    "id": "UtblbNCYqxOM"
   },
   "source": [
    "El tercer término de una sucesión geométrica es $5$ y el sexto término es $40$. Determine:\n",
    "\n",
    "1. La razón geométrica de la sucesión.\n",
    "2. El primer término de la sucesión.\n",
    "3. La expresión del término de lugar $n$.\n",
    "4. Utilice un código en *Python* para calcular el término que ocupa el lugar $8$.\n",
    "4. ¿Qué lugar ocupa en esta sucesión el término $20.480$? Calcule utilizando un ciclo *while*."
   ]
  },
  {
   "cell_type": "code",
   "execution_count": 45,
   "metadata": {},
   "outputs": [
    {
     "name": "stdout",
     "output_type": "stream",
     "text": [
      "La razón geométrica es: 2.0\n",
      "El primer término es: 1.25\n",
      "El término en la posición 8 es: 160.0\n",
      "El término 20,480 ocupa la posición: 15\n"
     ]
    }
   ],
   "source": [
    "a3 = 5\n",
    "a6 = 40\n",
    "\n",
    "r = (a6 / a3) ** (1/3)\n",
    "print(f\"La razón geométrica es: {r}\")\n",
    "\n",
    "a1 = a3 / r**2\n",
    "print(f\"El primer término es: {a1}\")\n",
    "\n",
    "def term(n, a1, r):\n",
    "    return a1 * r**(n-1)\n",
    "\n",
    "n = 8\n",
    "term_8 = term(n, a1, r)\n",
    "print(f\"El término en la posición {n} es: {term_8}\")\n",
    "\n",
    "\n",
    "a_n = 20480\n",
    "n = 1\n",
    "\n",
    "while term(n, a1, r) != a_n:\n",
    "    n += 1\n",
    "\n",
    "print(f\"El término 20,480 ocupa la posición: {n}\")\n"
   ]
  },
  {
   "cell_type": "markdown",
   "metadata": {
    "id": "Ju4J8uWfxQKk"
   },
   "source": [
    "# Problema 10"
   ]
  },
  {
   "cell_type": "markdown",
   "metadata": {
    "id": "F6FPVCXQxTMj"
   },
   "source": [
    "Una empresa de tecnología está optimizando sus servidores. Para ello mide las transacciones por segundo (TPS) de sus servidores en cada mes. Se ha obtenido que en el segundo mes, el rendimiento del servidor fue $1,2$ miles de TPS y en el quinto mes, el rendimiento fue $2,7$ miles de TPS. Si el número de TPS que hay mes a mes sigue una sucesión geométrica, determina utilizando un código en *Python*:\n",
    "\n",
    "1. ¿Cuál es el rendimiento el noveno mes?\n",
    "2. ¿En qué mes el rendimiento es de $23,4$ miles de TPS?\n",
    "\n",
    "Utilice dos decimales para el cálculo."
   ]
  },
  {
   "cell_type": "markdown",
   "metadata": {
    "id": "jxQyaJXUCW7m"
   },
   "source": [
    "# Problema 11"
   ]
  },
  {
   "cell_type": "markdown",
   "metadata": {
    "id": "8LdxsBUwDfbf"
   },
   "source": [
    "Una aplicación de redes sociales se estrenó el $1$ de enero con una cierta cantidad de usuarios. A partir de ahí, el número de usuarios nuevos de cada día fue siempre el mismo. El $3$ de enero tenía $500$ usuarios en total y el $10$ de enero tenía $1.501$ usuarios totales.Determine:\n",
    "\n",
    "1. ¿Con cuántos usuarios comenzó a funcionar la aplicación?\n",
    "2. ¿Cuántos usuarios tendrá la aplicación el $31$ de enero?\n",
    "3. Si la aplicación tiene $5.505$ usuarios, ¿cuántos meses lleva funcionando?\n",
    "\n"
   ]
  },
  {
   "cell_type": "markdown",
   "metadata": {
    "id": "zBN3BhYVLLSe"
   },
   "source": [
    "# Problema 12"
   ]
  },
  {
   "cell_type": "markdown",
   "metadata": {
    "id": "kszkhh_GLQN1"
   },
   "source": [
    "Una empresa de publicidad ofrece para un puesto de trabajo un salario inicial y un aumento mensual en una razón constante. Javier se presenta a la entrevista, y el encargado del departamento de recursos humanos le explica que en el segundo mes de trabajo su sueldo será de $\\$402.000$, y que en el tercer mes de trabajo será de $\\$404.010$. Determine:\n",
    "\n",
    "1. El salario aproximado que Javier recibiría en el décimo mes de trabajo en la empresa.\n",
    "2. ¿Cuál sería el ingreso total recibido por los sueldos de Javier durante el tercer año de trabajo?"
   ]
  },
  {
   "cell_type": "markdown",
   "metadata": {
    "id": "-lx5k4b9Y8sD"
   },
   "source": [
    "# Problema 13"
   ]
  },
  {
   "cell_type": "markdown",
   "metadata": {
    "id": "OVuWQuXsY_pp"
   },
   "source": [
    "Una empresa de ciberseguridad capacita trabajadores cada trimestre. En el primer trimestre capacitaron a $30$ trabajadores, en el segundo trimestre a $60$ trabajadores, y en el tercer trimestre a $120$ trabajadores. Si en los siguientes trimestres la empresa mantiene el mismo patrón de crecimiento, determine utilizando *Python*:\n",
    "\n",
    "1. ¿A cuántos trabajadores capacitarán en el octavo trimestre?\n",
    "2. Si la empresa lleva en el mercado $3$ años, ¿a cuántos trabajadores han capacitado en total?"
   ]
  },
  {
   "cell_type": "markdown",
   "metadata": {
    "id": "IM7Xf51G6AXs"
   },
   "source": [
    "# Problema 14"
   ]
  },
  {
   "cell_type": "markdown",
   "metadata": {
    "id": "Ni_4WMQl6OeV"
   },
   "source": [
    "Al llenar un tambor con agua, se registra que durante el minuto $4$ el tambor recibe $128$ litros, y durante el minuto $9$ recibe $88$ litros. Sabiendo que en cada minuto recibe una cantidad $d$ de litros de agua menos que en el minuto anterior, determine:\n",
    "\n",
    "1. ¿En qué instante el tambor deja de recibir agua?\n",
    "2. ¿Cuántos litros recibe en total el tambor?\n",
    "\n",
    "Realice los cálculos anteriores utilizando *Python*."
   ]
  }
 ],
 "metadata": {
  "colab": {
   "provenance": []
  },
  "kernelspec": {
   "display_name": "Python 3",
   "name": "python3"
  },
  "language_info": {
   "codemirror_mode": {
    "name": "ipython",
    "version": 3
   },
   "file_extension": ".py",
   "mimetype": "text/x-python",
   "name": "python",
   "nbconvert_exporter": "python",
   "pygments_lexer": "ipython3",
   "version": "3.12.3"
  }
 },
 "nbformat": 4,
 "nbformat_minor": 0
}
