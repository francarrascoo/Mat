{
 "cells": [
  {
   "cell_type": "markdown",
   "metadata": {
    "id": "UCCOMbmnLfHY"
   },
   "source": [
    "# Problema 1"
   ]
  },
  {
   "cell_type": "markdown",
   "metadata": {
    "id": "AHPLM97ONSwR"
   },
   "source": [
    "La fábrica de bicicletas Expend produce dos modelos de bicicletas, $M$ y $N$. La matriz $A$ nos indica las cantidades de acero y aluminio que requiere cada bicicleta, expresadas en kg según el modelo a producir, mientras que la matriz $B$ nos entrega un reporte de la cantidad de bicicletas producidas de ambos modelos para los dos primeros meses del año pasado.\n",
    "\n",
    "<br>\n",
    "\n",
    "\\begin{equation*}\n",
    "\\begin{matrix}\n",
    "& \\begin{matrix}\n",
    " & \\ \\ \\ \\  M & N\n",
    "\\end{matrix}  \\\\\n",
    "&A= \\begin{pmatrix}\n",
    "1 & 2 \\\\\n",
    "3 & 2 \\\\\n",
    "\\end{pmatrix} & \\ \\begin{matrix}\n",
    "Acero\\\\\n",
    "Aluminio\n",
    "\\end{matrix}\\\\\n",
    "\\end{matrix}\n",
    "\\ \\ \\ \\ \\ \\ \\ \\ \\ \\ \\ \\ \\ \\\n",
    "\\begin{matrix}\n",
    "& \\begin{matrix}\n",
    "& \\ \\ \\ \\ \\ \\ \\ ene & feb &\n",
    "\\end{matrix} & \\\\\n",
    "&B= \\begin{pmatrix}\n",
    "290 &  312 \\\\\n",
    " 345 &  413 \\\\\n",
    "\\end{pmatrix} & \\begin{matrix}\n",
    "M\\\\\n",
    "N\n",
    "\\end{matrix}\\\\\n",
    "\\end{matrix}\n",
    "\\end{equation*}\n",
    "\n",
    "<br>\n",
    "\n",
    "1. Indique el orden de cada matriz. ¿Es posible determinar la multiplicación entre ambas matrices? Justifique.\n",
    "2. Determine utilizando *Python* la matriz $C = A \\cdot B$\n",
    "3. Indique e interprete el valor de los elementos $c_{21}$ y $c_{11}$."
   ]
  },
  {
   "cell_type": "code",
   "execution_count": null,
   "metadata": {},
   "outputs": [
    {
     "name": "stdout",
     "output_type": "stream",
     "text": [
      "La matriz C es: \n",
      "[[ 980 1138]\n",
      " [1560 1762]]\n"
     ]
    }
   ],
   "source": [
    "import numpy as np\n",
    "\n",
    "A = np.array([[1, 2], \n",
    "            [3, 2]])\n",
    "\n",
    "B = np.array([[290, 312],\n",
    "            [345, 413]])\n",
    "\n",
    "C = A@B\n",
    "print(f\"La matriz C es: \\n{C}\")\n",
    "\n",
    "#1.- Orden matriz A: 2x2\n",
    "#    Orden matriz B: 2x2\n",
    "#2.- Matriz C = A * B\n",
    "#    #ene  #feb\n",
    "#    [980 1138] - Cantidad de acero en kg\n",
    "#    [1560 1762] - Cantidad de aluminio en kg\n",
    "#3.- C21 = 1560 / Indica que se necesitaron 1560kg de aluminio en enero\n",
    "#    C11 = 980 / Indica que se necesitaron 980kg de acero en enero"
   ]
  },
  {
   "cell_type": "markdown",
   "metadata": {
    "id": "-RrxIa0hnYzC"
   },
   "source": [
    "# Problema 2"
   ]
  },
  {
   "cell_type": "markdown",
   "metadata": {
    "id": "ZZrsGY3JnYzD"
   },
   "source": [
    "Una pequeña cadena tiene restaurantes de comida rápida en Santiago, Concepción y Antofagasta, en los que vende hamburguesas, completos y mateadas. En un fin de semana, las cantidades de cada comida según cada sucursal se distribuyeron de acuerdo con la siguiente matriz $V$, donde las filas corresponden a los productos y las columnas a las sucursales, mientras que los precios, en pesos, de cada producto están expresados en la matriz $P$.\n",
    "\n",
    "<br>\n",
    "\n",
    "\\begin{split}\n",
    "V &= \\begin{pmatrix}\n",
    " 1300 &  900  &  800  \\\\\n",
    " 2100 &  1700 &  1500 \\\\\n",
    " 1500 &  1200 &  900  \\\\\n",
    "\\end{pmatrix}\\\\\n",
    "\\\\\n",
    "P &= \\begin{pmatrix}\n",
    " 4200 &  1500 & 3200 \\\\\n",
    "\\end{pmatrix}\n",
    "\\end{split}\n",
    "\n",
    "<br>\n",
    "\n",
    "Si $I = P \\cdot V$\n",
    "\n",
    "1. Indique el orden de cada matriz.\n",
    "2. Determine utilizando *Python* la matriz $I$.\n",
    "3. Indique e interprete el valor de los elementos $v_{32}$, $p_{12}$ e $i_{13}$."
   ]
  },
  {
   "cell_type": "code",
   "execution_count": null,
   "metadata": {},
   "outputs": [
    {
     "name": "stdout",
     "output_type": "stream",
     "text": [
      "La matriz I es: \n",
      "[[13410000 10170000  8490000]]\n"
     ]
    }
   ],
   "source": [
    "import numpy as np\n",
    "\n",
    "V = np.array([[1300, 900, 800],\n",
    "            [2100, 1700, 1500], \n",
    "            [1500, 1200, 900]])\n",
    "\n",
    "P = np.array([[4200, 1500, 3200]])\n",
    "\n",
    "I = P@V\n",
    "\n",
    "print(f\"La matriz I es: \\n{I}\")\n",
    "\n",
    "#1.- Orden matriz V: 3x3\n",
    "#    Orden matriz P: 1x3\n",
    "#2.- Matriz I = P*V\n",
    "#    [13410000 10170000  8490000]\n",
    "#3.- V32 = 1200 / Se vendieron 1200 malteaadas en Concepción\n",
    "#    P12 = 1500 / Los completos se venden a $1500\n",
    "#    I13 = 8490000 / En total se vendieron $8490000 en Antofagasta (entre completos, malteadas y hamburguesas)\n"
   ]
  },
  {
   "cell_type": "markdown",
   "metadata": {
    "id": "alV0X-YntESs"
   },
   "source": [
    "# Problema 3"
   ]
  },
  {
   "cell_type": "markdown",
   "metadata": {
    "id": "zFKFesabtL6N"
   },
   "source": [
    "Una fábrica, para un mismo tipo de artículo eléctrico produce $2$ modelos, $A$ y $B$. Las filas de la matriz $M$, en el orden mencionado, nos muestran la cantidad de transistores y resistores que se requieren por cada artículo, según cada modelo. Por otra parte, las filas de la matriz $Q$ nos reportan las cantidades producidas de cada modelo para las tres primeras semanas del mes pasado.\n",
    "\n",
    "<br>\n",
    "\n",
    "\\begin{split}\n",
    "M = \\begin{pmatrix}\n",
    " 9 &  14 \\\\\n",
    " 4 &  5  \\\\\n",
    "\\end{pmatrix} \\ \\ \\ \\ \\ \\ \\ \\ Q = \\begin{pmatrix}\n",
    " 200 &  240 & 220 \\\\\n",
    " 175 &  210 & 215 \\\\\n",
    "\\end{pmatrix}\n",
    "\\end{split}\n",
    "\n",
    "<br>\n",
    "\n",
    "Además, considere las matrices $G = M \\cdot Q$ y $H = Q \\cdot M$.\n",
    "\n",
    "1. Indique el orden de $M$ y $Q$.\n",
    "2. ¿Es posible calcular las matrices $G$ y $H$? Justifique.\n",
    "3. Determine utilizando *Python* la matriz $G$ e interprete los elementos $g_{23}$  y $g_{12}$.\n",
    "4. ¿Cuántos resistores se utilizaron durante las tres semanas?"
   ]
  },
  {
   "cell_type": "code",
   "execution_count": 6,
   "metadata": {},
   "outputs": [
    {
     "name": "stdout",
     "output_type": "stream",
     "text": [
      "La matriz G es: \n",
      "[[4250 5100 4990]\n",
      " [1675 2010 1955]]\n"
     ]
    }
   ],
   "source": [
    "import numpy as np\n",
    "            #A    #B\n",
    "M = np.array([[9, 14], #Cantidad de transitores necesarios\n",
    "            [4, 5]]) #Cantidad de resistores necesarios\n",
    "\n",
    "            #S1    #S2    #S3\n",
    "Q = np.array([[200, 240, 220], #Cantidad producida del modelo A\n",
    "            [175, 210, 215]]) #Cantidad producida del modelo B\n",
    "\n",
    "G = M@Q\n",
    "print(f\"La matriz G es: \\n{G}\")\n",
    "\n",
    "#1.- Orden matriz M: 2x2\n",
    "#    Orden matriz Q: 2x3\n",
    "#2.- Es posible calcular M*Q pero no Q*M ya que el número de columnas de M no es igual al número de filas de Q\n",
    "#3.- Matriz G = M*Q\n",
    "#    #S1    #S2    #S3\n",
    "#    [4250 5100 4990] - Cantidad de transistores necesarios\n",
    "#    [1675 2010 1955] - Cantidad de resistores necesarios\n",
    "#    G23 = 1955 - Cantidad de resistores necesarios en la semana 3\n",
    "#    G12 = 5100 - Cantidad de transistores necesarios en la semana 2\n",
    "#4.- Se utilizaron 5640 resistores durante las 3 semanas "
   ]
  },
  {
   "cell_type": "markdown",
   "metadata": {
    "id": "rSgW5H3l0MGI"
   },
   "source": [
    "# Problema 4"
   ]
  },
  {
   "cell_type": "markdown",
   "metadata": {
    "id": "AtetJk0N5mKL"
   },
   "source": [
    "Una empresa de telecomunicaciones necesita optimizar la distribución de su infraestructura de red en Iquique, Santiago y Concepción. Las columnas de la matriz $R$, en el orden mencionado, representan la cantidad de routers y switches que se deben instalar en cada ciudad. La matriz $C$ muestra el costo de instalación, en pesos, de cada router y switch.\n",
    "\n",
    "<br>\n",
    "\n",
    "\\begin{split}\n",
    "R = \\begin{pmatrix}\n",
    " 50 &  70 \\\\\n",
    " 80 &  110  \\\\\n",
    " 60 &  90  \\\\\n",
    "\\end{pmatrix} \\ \\ \\ \\ \\ \\ C = \\begin{pmatrix}\n",
    " 80000 \\\\\n",
    " 45000 \\\\\n",
    "\\end{pmatrix}\n",
    "\\end{split}\n",
    "\n",
    "<br>\n",
    "\n",
    "1. Calcula utilizando *Python* el costo total de instalación para cada ciudad y almacénalo en la matriz $T$.\n",
    "2. ¿Cuál es la ciudad que tiene mayor costo de instalación?\n",
    "3. Si se aplica un descuento del $10\\%$ en el costo de instalación de los switches, calcula el nuevo costo total de instalación para cada ciudad."
   ]
  },
  {
   "cell_type": "code",
   "execution_count": null,
   "metadata": {},
   "outputs": [
    {
     "name": "stdout",
     "output_type": "stream",
     "text": [
      "La matriz T es: \n",
      "[[ 7150000]\n",
      " [11350000]\n",
      " [ 8850000]]\n",
      "La matriz D es: \n",
      "[[ 6435000.]\n",
      " [10215000.]\n",
      " [ 7965000.]]\n"
     ]
    }
   ],
   "source": [
    "import numpy as np\n",
    "            #Routers, Switches\n",
    "R = np.array([[50, 70], #Iquique\n",
    "            [80, 110], #Santiago\n",
    "            [60, 90]]) #Concepción\n",
    "\n",
    "            #Costo\n",
    "C = np.array([[80000], #Routerss\n",
    "            [45000]]) #Switches\n",
    "\n",
    "T = R@C\n",
    "print(f\"La matriz T es: \\n{T}\")\n",
    "\n",
    "D = T*0.9\n",
    "print(f\"La matriz D es: \\n{D}\")\n",
    "\n",
    "#1.- T = R*C\n",
    "#    [7150000] - Iquique\n",
    "#    [11350000] - Santiago\n",
    "#    [8850000] - Concepción\n",
    "#2.- La ciudad con mayor costo de instalación es Santiago con $11350000\n",
    "#3.- Los nuevos costos se dan por: D = T*0.9\n",
    "#    [6435000] - Iquique\n",
    "#    [10215000] - Santiago\n",
    "#    [7965000] - Concepción\n",
    "\n"
   ]
  },
  {
   "cell_type": "markdown",
   "metadata": {
    "id": "BApBYmuW1Gpj"
   },
   "source": [
    "# Problema 5"
   ]
  },
  {
   "cell_type": "markdown",
   "metadata": {
    "id": "ZLyggtwj1I58"
   },
   "source": [
    "Una empresa de servicios en la nube distribuye datos entre tres *Data Center*. La matriz $D$ muestra el volumen de datos (en terabytes) almacenados en cada *Data Center* durante los tres primeros meses del año. Mientras que la matriz $C$ muestra los costos (en dólares) de almacenamiento por terabyte en cada *Data Center*.\n",
    "\n",
    "<br>\n",
    "\n",
    "\\begin{equation*}\n",
    "\\begin{matrix}\n",
    "& \\begin{matrix}\n",
    "& \\ \\ \\ \\ \\ \\ \\ DC_{1} &   DC_{2} & DC_{3}&\n",
    "\\end{matrix} & \\\\\n",
    "&D = \\begin{pmatrix}\n",
    "100 & 150 & 200 \\\\\n",
    "120 & 180 & 220 \\\\\n",
    "140 & 210 & 250\n",
    "\\end{pmatrix} & \\begin{matrix}\n",
    "Ene\\\\\n",
    "Feb\\\\\n",
    "Mar\n",
    "\\end{matrix}\n",
    "\\end{matrix}\n",
    "\\ \\ \\ \\ \\ \\ \\ \\ \\ \\ \\ \\ \\ \\\n",
    "\\begin{matrix}\n",
    "& \\begin{matrix}\n",
    "\\   \n",
    "\\end{matrix} & \\\\\n",
    "&C = \\begin{pmatrix}\n",
    "50 \\\\\n",
    "40 \\\\\n",
    "30\n",
    "\\end{pmatrix}  \\begin{matrix}\n",
    "DC_{1}\\\\\n",
    "DC_{2}\\\\\n",
    "DC_{3}\n",
    "\\end{matrix}\\\\\n",
    "\\end{matrix}\n",
    "\\end{equation*}\n",
    "\n",
    "<br>\n",
    "\n",
    "1. Calcula utilizando *Python* la matriz $T = D \\cdot C$.\n",
    "2. Un trabajador indica que en febrero el costo por almacenamiento fue el más alto, ¿es cierta su afirmación?\n",
    "3. Debido a la inflación, el costo de almacenamiento por terabyte aumenta en un $2,3\\%$. Calcula el nuevo costo total de almacenamiento por mes e interprete cada uno de los elementos de la nueva matriz."
   ]
  },
  {
   "cell_type": "code",
   "execution_count": null,
   "metadata": {},
   "outputs": [
    {
     "name": "stdout",
     "output_type": "stream",
     "text": [
      "La matriz T es: \n",
      "[[17000]\n",
      " [19800]\n",
      " [22900]]\n",
      "La matriz T2 es: \n",
      "[[17391. ]\n",
      " [20255.4]\n",
      " [23426.7]]\n"
     ]
    }
   ],
   "source": [
    "import numpy as np\n",
    "\n",
    "D = np.array([[100, 150, 200],  \n",
    "            [120, 180, 220],\n",
    "            [140, 210, 250]])\n",
    "\n",
    "C = np.array ([[50], [40], [30]])\n",
    "\n",
    "T = D@C\n",
    "print(f\"La matriz T es: \\n{T}\")\n",
    "\n",
    "T2= T * 1.023\n",
    "print(f\"La matriz T2 es: \\n{T2}\")\n",
    "\n",
    "#1.- La matriz T = D*C\n",
    "#    Costos en dolares de almacenamiento por TB\n",
    "#    [17000] - Enero\n",
    "#    [19800] - Febrero\n",
    "#    [22900] - Marzo\n",
    "#2.- No es verdadera la afirmación ya que el costo por almacenamiento en marzo es mayor que en febrero\n",
    "#3.- Debudo a la inflación el costo por almacenamiento aumenta un 2.3% por mes"
   ]
  },
  {
   "cell_type": "markdown",
   "metadata": {
    "id": "Jpe3sG3sHvmD"
   },
   "source": [
    "# Problema 6"
   ]
  },
  {
   "cell_type": "markdown",
   "metadata": {
    "id": "gE8Q3mwKHxhj"
   },
   "source": [
    "Una compañía que fabrica un determinado producto, tiene $4$ plantas de producción y $5$ bodegas de almacenamiento. La matriz $T$ muestra las unidades de este producto que se generan mensualmente en la planta $i$ y que son transportadas a la bodega $j$, para quedar almacenadas allí durante el mes en que fueron producidas.\n",
    "\n",
    "Además, la matriz $C$ detalla, para el primer semestre del presente año, el costo unitario (en dólares) de almacenamiento del producto durante el mes $j$ en la bodega $i$.\n",
    "\n",
    "<br>\n",
    "\n",
    "\\begin{split}\n",
    "T = \\begin{pmatrix}\n",
    " 500 &  400  &  300 & 200 & 100 \\\\\n",
    " 600 &  500  &  400 & 300 & 200 \\\\\n",
    " 700 &  600  &  500 & 400 & 300 \\\\\n",
    " 800 &  700  &  600 & 500 & 400 \\\\\n",
    "\\end{pmatrix} \\ \\ \\ \\ \\ \\ C = \\begin{pmatrix}\n",
    " 5 &  6  &  7 &  8  &  9 & 6 \\\\\n",
    " 4 &  5  &  6 &  7  &  8 & 7 \\\\\n",
    " 3 &  4  &  5 &  6  &  7 & 9 \\\\\n",
    " 2 &  3  &  4 &  5  &  6 & 6 \\\\\n",
    " 8 &  5  &  6 &  3  &  7 & 5 \\\\\n",
    "\\end{pmatrix}\n",
    "\\end{split}\n",
    "\n",
    "<br>\n",
    "\n",
    "1. Determina la matriz $G = T \\cdot C$.\n",
    "2. Interpreta los elementos $t_{14}$, $c_{53}$ y $g_{35}$.\n",
    "3. ¿Cuánto cuesta almacenar una unidad del producto en la bodega $4$ durante marzo de este año?\n",
    "4. ¿Cuánto dinero gasta la empresa por almacenar la producción mensual de la planta $2$ durante el mes de abril?\n"
   ]
  },
  {
   "cell_type": "code",
   "execution_count": null,
   "metadata": {},
   "outputs": [
    {
     "name": "stdout",
     "output_type": "stream",
     "text": [
      "La matriz G es: \n",
      "[[ 6200  7300  8800  9900 11700 10200]\n",
      " [ 8400  9600 11600 12800 15400 13500]\n",
      " [10600 11900 14400 15700 19100 16800]\n",
      " [12800 14200 17200 18600 22800 20100]]\n",
      "La suma de la fila 2 de la matriz G es: 71300\n"
     ]
    }
   ],
   "source": [
    "import numpy as np\n",
    "\n",
    "#Unidades de producto que se generan mensualmente en la planta i y que son transportadas a la bodega j\n",
    "        #Bod 1  #Bod 2  #Bod 3  #Bod 4  #Bod 5\n",
    "T = np.array([[500, 400, 300, 200, 100], #Planta 1\n",
    "            [600, 500, 400, 300, 200], #Planta 2\n",
    "            [700, 600, 500, 400, 300], #Planta 3\n",
    "            [800, 700, 600, 500, 400]]) #Planta 4\n",
    "\n",
    "#Costo unitario en dolares de almacenamiento del producto el mes j en la bodega i\n",
    "#Mes 1  #Mes 2  #Mes 3  #Mes 4  #Mes 5 #Mes 6\n",
    "C = np.array([[5, 6, 7, 8, 9, 6], #Bod 1\n",
    "            [4, 5, 6, 7, 8, 7], #Bod 2\n",
    "            [3, 4, 5, 6, 7, 9], #Bod 3\n",
    "            [2, 3, 4, 5, 6, 6], #Bod 4\n",
    "            [8, 5, 6, 3, 7, 5]]) #Bod 5\n",
    "\n",
    "G = T@C\n",
    "print(f\"La matriz G es: \\n{G}\")\n",
    "\n",
    "#1.- La matriz G = T*C\n",
    "#    Mes 1  Mes 2  Mes 3  Mes 4  Mes 5  Mes 6\n",
    "#    [6200  7300  8800  9900 11700 10200] - Planta 1\n",
    "#    [8400  9600 11600 12800 15400 13500] - Planta 2\n",
    "#    [10600 11900 14400 15700 19100 16800] - Planta 3\n",
    "#    [12800 14200 17200 18600 22800 20100] - Planta 4\n",
    "#2.- T14 = 200 / En la planta 1 se generan 200 unidades que son transportadas a la bodega 4\n",
    "#    C53 = 6 / El costo unitario de almacenamiento en la bodega 5 en el mes 3 es de $6\n",
    "#    G35 = 16800 / El costo de almacenamiento en la bodega 3 en el mes 5 es de $16800\n",
    "#3.- Cuesta $4 almacenar una unidad del producto en la bodega 4 en el mes 3\n",
    "#4.- La empresa gasta $12800 en almacenar la produccion mensual de la planta 2 el 4"
   ]
  },
  {
   "cell_type": "markdown",
   "metadata": {
    "id": "xDI75W2xzvrM"
   },
   "source": [
    "# Problema 7"
   ]
  },
  {
   "cell_type": "markdown",
   "metadata": {
    "id": "lNCVWxWhz7-L"
   },
   "source": [
    "Una empresa dedicada al desarrollo de software, que cuenta con tres sucuersales, necesita renovar los siguientes implementos para su personal: laptop de alto rendimiento, monitor externo de alta resolución, teclado mecánico, mouse ergonómico y disco duro de alta capacidad. Para esto, decide cotizar con tres proveedores y así encontrar el precio más conveniente para realizar la compra. La matriz $F$, en el orden mencionado, indica la cantidad de artículos que necesita comprar para cada sucursal. La matriz $G$ indica el precio unitario (en miles de pesos) de cada producto por proveedor.\n",
    "\n",
    "<br>\n",
    "\n",
    "\\begin{split}\n",
    "F = \\begin{pmatrix}\n",
    " 7 &  6  &  15 & 17 & 18 \\\\\n",
    " 5 &  10  &  20 & 13 & 12 \\\\\n",
    " 8 &  4  &  12 & 18 & 9 \\\\\n",
    "\\end{pmatrix} \\ \\ \\ \\ \\ \\ G = \\begin{pmatrix}\n",
    " 1700 &  1750 &  1800 \\\\\n",
    "  868 &  803  &  840  \\\\\n",
    "  165 &  160  &  150  \\\\\n",
    "  70  &  73  &   65   \\\\\n",
    "  110 &  124  &  115  \\\\\n",
    "\\end{pmatrix}\n",
    "\\end{split}\n",
    "\n",
    "<br>\n",
    "\n",
    "1. Calcula utilizando *Python* la matriz $D = F \\cdot G$.\n",
    "2. Interpreta los elementos $d_{33}$ y $d_{21}$.\n",
    "3. ¿Cuál es el proveedor más conveniente para realizar todas las compras?\n",
    "4. Si escoge el proveedor más conveniente, ¿en qué sucursal deberá invertir más dinero por la renovación de los implementos?"
   ]
  },
  {
   "cell_type": "code",
   "execution_count": null,
   "metadata": {},
   "outputs": [
    {
     "name": "stdout",
     "output_type": "stream",
     "text": [
      "La matriz D es: \n",
      "[[22753 22941 23065]\n",
      " [22710 22417 22625]\n",
      " [21302 21562 21765]]\n",
      "El total de la compra de la sucursal 1 es: 66765\n",
      "El total de la compra de la sucursal 2 es: 66920\n",
      "El total de la compra de la sucursal 3 es: 67455\n",
      "El total de productos de la compra de la sucursal 1 es: 63\n",
      "El total de productos de la compra de la sucursal 2 es: 60\n",
      "El total de producto de la compra de la sucursal 3 es: 51\n"
     ]
    }
   ],
   "source": [
    "import numpy as np \n",
    "\n",
    "#Cantidad de articulos que necesita comprar para cada sucursal\n",
    "            #L  #MN  #T  #MS  #D\n",
    "F = np.array([[7, 6, 15, 17, 18], #Sucursal 1\n",
    "            [5, 10, 20, 13, 12], #Sucursal 2\n",
    "            [8, 4, 12, 18, 9]]) #Sucursal 3\n",
    "\n",
    "#Precio unitario (en miles de pesos) de cada producto por proveedor\n",
    "            #P1     #P2     #P3\n",
    "G = np.array([[1700, 1750, 1800], #LN\n",
    "            [868, 803, 840], #MN\n",
    "            [165, 160, 150], #T\n",
    "            [70, 73, 65], #MS\n",
    "            [110, 124, 115]]) #D\n",
    "\n",
    "D = F@G\n",
    "print(f\"La matriz D es: \\n{D}\")\n",
    "\n",
    "P1 = D[0, 0] + D[1, 0] + D[2, 0]\n",
    "print(f\"El total de la compra de la sucursal 1 es: {P1}\")\n",
    "\n",
    "P2 = D[0, 1] + D[1, 1] + D[2, 1]\n",
    "print(f\"El total de la compra de la sucursal 2 es: {P2}\")   \n",
    "\n",
    "P3 = D[0, 2] + D[1, 2] + D[2, 2]\n",
    "print(f\"El total de la compra de la sucursal 3 es: {P3}\")\n",
    "\n",
    "S1 = np.sum(F[0])\n",
    "print(f\"El total de productos de la compra de la sucursal 1 es: {S1}\")\n",
    "\n",
    "S2 = np.sum(F[1])\n",
    "print(f\"El total de productos de la compra de la sucursal 2 es: {S2}\")\n",
    "\n",
    "S3 = np.sum(F[2])\n",
    "print (f\"El total de producto de la compra de la sucursal 3 es: {S3}\")\n",
    "\n",
    "#1.- La matriz D = F*G\n",
    "#    P1      P2      P3\n",
    "#    [22753 22941 23065] - Sucursal 1\n",
    "#    [22710 22417 22625] - Sucursal 2\n",
    "#    [21302 21562 21765] - Sucursal 3\n",
    "#2.- D33 = 21765 / Comprar todos los productos de la sucursal 3 cuesta $21765 con el proveedor 3\n",
    "#    D21 = 22710 / Comprr todos los productos de la sucursal 2 cuesta $22710 con el proveedor 1\n",
    "#3.- El proveedor 1 es el más conveniente y deberá invertir más en la Sucursal 1 ya que es la que más productos necesita\n"
   ]
  },
  {
   "cell_type": "markdown",
   "metadata": {
    "id": "9NADqkF9I2jz"
   },
   "source": [
    "# Problema 8"
   ]
  },
  {
   "cell_type": "markdown",
   "metadata": {
    "id": "GkqTrVluI5IR"
   },
   "source": [
    "Sea la matriz $A$:\n",
    "\n",
    "<br>\n",
    "\n",
    "\\begin{split}\n",
    "A = \\begin{pmatrix}\n",
    " 3 &  1  &  2 \\\\\n",
    " 1 &  2  &  1 \\\\\n",
    " 4 &  1  &  3 \\\\\n",
    "\\end{pmatrix}\n",
    "\\end{split}\n",
    "\n",
    "<br>\n",
    "\n",
    "1. Calcula, utilizando *Python*, la matriz $A^{-1}$.\n",
    "2. Calcula la matriz $I = A \\cdot A^{-1}$.\n",
    "3. Calcula la matriz $I^{-1}$. Analiza este resultado, comparando con los resultados obtenidos en los ítems anteriores. ¿Puedes encontrar alguna relación para estas matrices?"
   ]
  },
  {
   "cell_type": "markdown",
   "metadata": {
    "id": "69qgazcrO2AU"
   },
   "source": [
    "# Problema 9"
   ]
  },
  {
   "cell_type": "markdown",
   "metadata": {
    "id": "Iw6_2ghWvTJ_"
   },
   "source": [
    "1. Considera que el siguiente sistema de ecuaciones:\n",
    "\n",
    "<br>\n",
    "\n",
    "\\begin{split}\n",
    "2x + y & = 7 \\\\\n",
    "3x - 2y & = 21\n",
    "\\end{split}\n",
    "\n",
    "<br>\n",
    "\n",
    "$\\hspace{1cm}$ Se puede escribir matricialmente como:\n",
    "\n",
    "<br>\n",
    "\n",
    "\\begin{split}\n",
    "\\begin{pmatrix}\n",
    " 2  &  1 \\\\\n",
    " 3 & -2 \\\\\n",
    "\\end{pmatrix} \\cdot \\begin{pmatrix}\n",
    " x \\\\\n",
    " y \\\\\n",
    "\\end{pmatrix} = \\begin{pmatrix}\n",
    " 7 \\\\\n",
    " 21 \\\\\n",
    "\\end{pmatrix}\n",
    "\\end{split}\n",
    "\n",
    "<br>\n",
    "\n",
    "* Utiliza la matriz inversa para encontrar los valores de $x$ e $y$ que permiten satisfacer ambas ecuaciones simultáneamente.\n",
    "\n",
    "<br>\n",
    "\n",
    "2. Considera que el siguiente sistema de ecuaciones:\n",
    "\n",
    "<br>\n",
    "\n",
    "\\begin{split}\n",
    "h + m & = 60 \\\\\n",
    "0,16h + 0,2m & = 11\n",
    "\\end{split}\n",
    "\n",
    "<br>\n",
    "\n",
    "$\\hspace{1cm}$ Se puede escribir matricialmente como:\n",
    "\n",
    "<br>\n",
    "\n",
    "\\begin{split}\n",
    "\\begin{pmatrix}\n",
    " 1  &  1 \\\\\n",
    " 0,16 & 0,2 \\\\\n",
    "\\end{pmatrix} \\cdot \\begin{pmatrix}\n",
    " h \\\\\n",
    " m \\\\\n",
    "\\end{pmatrix} = \\begin{pmatrix}\n",
    " 60 \\\\\n",
    " 11 \\\\\n",
    "\\end{pmatrix}\n",
    "\\end{split}\n",
    "\n",
    "<br>\n",
    "\n",
    "* Utiliza la matriz inversa para encontrar los valores de $h$ y $m$ que permiten satisfacer el sistema de ecuaciones."
   ]
  },
  {
   "cell_type": "markdown",
   "metadata": {
    "id": "2t0kddN6afwB"
   },
   "source": [
    "# Problema 10"
   ]
  },
  {
   "cell_type": "markdown",
   "metadata": {
    "id": "UBNev_Aa3JFo"
   },
   "source": [
    "Considera los siguientes sistemas de ecuaciones:\n",
    "\n",
    "<br>\n",
    "\n",
    "**a)**\n",
    "\\begin{split}\n",
    "2m + 4p & = 2900 \\\\\n",
    "3m + 3p & = 3150\n",
    "\\end{split}\n",
    "<br>\n",
    "<br>\n",
    "**b)**\n",
    "\\begin{split}\n",
    "n + v & = 160 \\\\\n",
    "50n + 300v & = 23000\n",
    "\\end{split}\n",
    "\n",
    "<br>\n",
    "\n",
    "1. Escribe ambos sistemas de ecuaciones de forma matricial.\n",
    "1. Utiliza la matriz inversa para calcular las soluciones de ambos sistemas de ecuaciones.\n",
    "\n",
    "\n"
   ]
  },
  {
   "cell_type": "markdown",
   "metadata": {
    "id": "17CU2FNFdMUi"
   },
   "source": [
    "# Problema 11"
   ]
  },
  {
   "cell_type": "markdown",
   "metadata": {
    "id": "oCE7O-GwUfFp"
   },
   "source": [
    "Una persona tiene $\\$8000$ en monedas de $\\$10$ y de $50$. El sistema de ecuaciones que representa la situación es el siguiente:\n",
    "\n",
    "<br>\n",
    "\n",
    "\\begin{split}\n",
    "x + y & = 200 \\\\\n",
    "10x + 50y & = 8000\n",
    "\\end{split}\n",
    "\n",
    "<br>\n",
    "\n",
    "1. ¿Qué representa cada variable?\n",
    "2. Explica qué representa cada una de las ecuaciones del sistema.\n",
    "3. ¿Cuántas monedas de $\\$10$ y de $\\$50$ tiene?"
   ]
  },
  {
   "cell_type": "markdown",
   "metadata": {
    "id": "zO3T2HsmAag8"
   },
   "source": [
    "# Problema 12"
   ]
  },
  {
   "cell_type": "markdown",
   "metadata": {
    "id": "0dz7BgV4ayBZ"
   },
   "source": [
    "En una granja hay $132$ animales entre patos y vacas. En total hay $402$ patas. El sistema que modela la situación planteada es:\n",
    "\n",
    "<br>\n",
    "\n",
    "\\begin{split}\n",
    "p + v & = 132 \\\\\n",
    "2p + 4v & = 402\n",
    "\\end{split}\n",
    "\n",
    "<br>\n",
    "\n",
    "1. ¿Qué representan las incógnitas del sistema?\n",
    "2. ¿Cuántos patos hay?"
   ]
  },
  {
   "cell_type": "markdown",
   "metadata": {
    "id": "u4IT_mcqAc-h"
   },
   "source": [
    "# Problema 13"
   ]
  },
  {
   "cell_type": "markdown",
   "metadata": {
    "id": "OfPwXJUHs6hY"
   },
   "source": [
    "Luis compró $5$ cables USB y $6$ pendrives, en total canceló $\\$82.890$. Pablo compró a los mismos precios $3$ cables USB y $7$ pendrives, y canceló $\\$59.900$.\n",
    "\n",
    "El sistema que modela el problema es:\n",
    "\n",
    "<br>\n",
    "\n",
    "\\begin{split}\n",
    "5x + 6y &= 82890 \\\\\n",
    "3x +  7y &= 59900\n",
    "\\end{split}\n",
    "\n",
    "<br>\n",
    "\n",
    "\n",
    "1. ¿Qué representa cada incógnita en el contexto del problema?\n",
    "2. Determina cuánto pagaron por cada cable USB."
   ]
  }
 ],
 "metadata": {
  "colab": {
   "provenance": [],
   "toc_visible": true
  },
  "kernelspec": {
   "display_name": "Python 3",
   "name": "python3"
  },
  "language_info": {
   "codemirror_mode": {
    "name": "ipython",
    "version": 3
   },
   "file_extension": ".py",
   "mimetype": "text/x-python",
   "name": "python",
   "nbconvert_exporter": "python",
   "pygments_lexer": "ipython3",
   "version": "3.12.3"
  }
 },
 "nbformat": 4,
 "nbformat_minor": 0
}
