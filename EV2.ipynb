{
 "cells": [
  {
   "cell_type": "markdown",
   "metadata": {},
   "source": [
    "Pregunta 1"
   ]
  },
  {
   "cell_type": "code",
   "execution_count": 2,
   "metadata": {},
   "outputs": [
    {
     "name": "stdout",
     "output_type": "stream",
     "text": [
      "el numero 1 es 48.7\n",
      "el numero 2 es 49.4\n",
      "el numero 3 es 50.1\n",
      "el numero 4 es 50.8\n",
      "el numero 5 es 51.5\n",
      "el numero 6 es 52.2\n",
      "el numero 7 es 52.9\n",
      "el numero 8 es 53.6\n",
      "el numero 9 es 54.3\n",
      "el numero 10 es 55.0\n",
      "el numero 11 es 55.7\n",
      "el numero 12 es 56.4\n",
      "el numero 13 es 57.1\n",
      "el numero 14 es 57.8\n",
      "el numero 15 es 58.5\n"
     ]
    }
   ],
   "source": [
    "for i in range (1,16):\n",
    "    s = 48 + 0.7*i\n",
    "    print (f\"el numero {i} es {s}\")"
   ]
  },
  {
   "cell_type": "markdown",
   "metadata": {},
   "source": [
    "Pregunta 2"
   ]
  },
  {
   "cell_type": "code",
   "execution_count": 4,
   "metadata": {},
   "outputs": [
    {
     "name": "stdout",
     "output_type": "stream",
     "text": [
      "el numero 1 es -1\n",
      "el numero 2 es 4\n",
      "el numero 3 es 21\n",
      "el numero 4 es 56\n",
      "el numero 5 es 115\n",
      "el numero 6 es 204\n",
      "el numero 7 es 329\n",
      "el numero 8 es 496\n",
      "el numero 9 es 711\n",
      "el numero 10 es 980\n",
      "el numero 11 es 1309\n",
      "el numero 12 es 1704\n",
      "el numero 13 es 2171\n",
      "13\n",
      "el numero 14 es 2716\n",
      "el numero 15 es 3345\n",
      "el numero 16 es 4064\n",
      "el numero 17 es 4879\n",
      "el numero 18 es 5796\n",
      "el numero 19 es 6821\n"
     ]
    }
   ],
   "source": [
    "for i in range (1,20):\n",
    "    s = i**3 - 2*i\n",
    "    print (f\"el numero {i} es {s}\")\n",
    "    if s == 2171:\n",
    "        print(i)"
   ]
  },
  {
   "cell_type": "markdown",
   "metadata": {},
   "source": [
    "Pregunta 3"
   ]
  },
  {
   "cell_type": "code",
   "execution_count": 12,
   "metadata": {},
   "outputs": [
    {
     "name": "stdout",
     "output_type": "stream",
     "text": [
      "actualizacion 1: 140\n",
      "actualizacion 2: 220\n",
      "actualizacion 3: 300\n",
      "actualizacion 4: 380\n",
      "actualizacion 5: 460\n",
      "actualizacion 6: 540\n",
      "actualizacion 7: 620\n",
      "actualizacion 8: 700\n",
      "actualizacion 9: 780\n",
      "actualizacion 10: 860\n",
      "actualizacion 11: 940\n",
      "actualizacion 12: 1020\n",
      "actualizacion 13: 1100\n",
      "actualizacion 14: 1180\n",
      "actualizacion 15: 1260\n",
      "actualizacion 16: 1340\n",
      "actualizacion 17: 1420\n",
      "actualizacion 18: 1500\n",
      "actualizacion 19: 1580\n"
     ]
    }
   ],
   "source": [
    "for i in range (1,20):\n",
    "    s = 140 + (i-1)*80\n",
    "    print (f\"actualizacion {i}: {s}\")"
   ]
  },
  {
   "cell_type": "markdown",
   "metadata": {},
   "source": [
    "Pregunta 4"
   ]
  },
  {
   "cell_type": "code",
   "execution_count": 14,
   "metadata": {},
   "outputs": [
    {
     "name": "stdout",
     "output_type": "stream",
     "text": [
      "gana 1 veces: 12\n",
      "gana 2 veces: 36\n",
      "gana 3 veces: 108\n",
      "gana 4 veces: 324\n",
      "gana 5 veces: 972\n",
      "gana 6 veces: 2916\n",
      "gana 7 veces: 8748\n",
      "gana 8 veces: 26244\n",
      "gana 9 veces: 78732\n",
      "gana 10 veces: 236196\n",
      "gana 11 veces: 708588\n",
      "gana 12 veces: 2125764\n",
      "gana 13 veces: 6377292\n",
      "gana 14 veces: 19131876\n",
      "gana 15 veces: 57395628\n",
      "gana 16 veces: 172186884\n",
      "gana 17 veces: 516560652\n",
      "gana 18 veces: 1549681956\n",
      "gana 19 veces: 4649045868\n"
     ]
    }
   ],
   "source": [
    "for i in range (1,20):\n",
    "    s = 4 * 3**(i)\n",
    "    print (f\"gana {i} veces: {s}\")"
   ]
  },
  {
   "cell_type": "markdown",
   "metadata": {},
   "source": [
    "Pregunta 5"
   ]
  },
  {
   "cell_type": "code",
   "execution_count": 3,
   "metadata": {},
   "outputs": [
    {
     "name": "stdout",
     "output_type": "stream",
     "text": [
      "al paso de 1 horas: 900\n",
      "al paso de 2 horas: 800\n",
      "al paso de 3 horas: 700\n",
      "al paso de 4 horas: 600\n",
      "al paso de 5 horas: 500\n",
      "al paso de 6 horas: 400\n",
      "al paso de 7 horas: 300\n",
      "al paso de 8 horas: 200\n",
      "al paso de 9 horas: 100\n",
      "al paso de 10 horas: 0\n"
     ]
    }
   ],
   "source": [
    "for i in range (1,11):\n",
    "    s = 900 - (i-1)*100\n",
    "    print (f\"al paso de {i} horas: {s}\")"
   ]
  },
  {
   "cell_type": "markdown",
   "metadata": {},
   "source": [
    "Pregunta 6"
   ]
  },
  {
   "cell_type": "code",
   "execution_count": 26,
   "metadata": {},
   "outputs": [
    {
     "name": "stdout",
     "output_type": "stream",
     "text": [
      "mes 1: 3\n",
      "mes 2: 6\n",
      "mes 3: 12\n",
      "mes 4: 24\n",
      "mes 5: 48\n",
      "mes 6: 96\n",
      "mes 7: 192\n",
      "mes 8: 384\n",
      "mes 9: 768\n",
      "mes 10: 1536\n",
      "mes 11: 3072\n",
      "mes 12: 6144\n",
      "total: 12285\n"
     ]
    }
   ],
   "source": [
    "suma = 0\n",
    "for i in range (1,13):\n",
    "    s = 3 * 2**(i-1)\n",
    "    suma += s\n",
    "    print (f\"mes {i}: {s}\")\n",
    "print (\"total:\", suma)"
   ]
  },
  {
   "cell_type": "markdown",
   "metadata": {},
   "source": [
    "Pregunta 9"
   ]
  },
  {
   "cell_type": "code",
   "execution_count": 31,
   "metadata": {},
   "outputs": [
    {
     "name": "stdout",
     "output_type": "stream",
     "text": [
      "[[-2 -8]\n",
      " [ 5  4]\n",
      " [-1  0]]\n",
      "[[-2 -8]\n",
      " [ 5  4]\n",
      " [-1  0]]\n"
     ]
    }
   ],
   "source": [
    "import numpy as np\n",
    "\n",
    "A = np.array([[-2, 5, -1],\n",
    "              [-8, 4, 0]])\n",
    "\n",
    "T = A.T\n",
    "print(np.transpose(A))\n",
    "print(T)"
   ]
  },
  {
   "cell_type": "markdown",
   "metadata": {},
   "source": [
    "Pregunta 10"
   ]
  },
  {
   "cell_type": "code",
   "execution_count": 36,
   "metadata": {},
   "outputs": [
    {
     "name": "stdout",
     "output_type": "stream",
     "text": [
      "[[40 80]\n",
      " [40 45]\n",
      " [36 30]\n",
      " [19 62]]\n"
     ]
    }
   ],
   "source": [
    "import numpy as np\n",
    "\n",
    "#Sucursal 1\n",
    "              #B   #N\n",
    "A = np.array([[30, 50], #Cargador\n",
    "              [25, 18], #Router\n",
    "              [12, 16], #Cámara\n",
    "              [9, 40]]) #Alexa\n",
    "\n",
    "#Sucursal 2\n",
    "              #B   #N\n",
    "B = np.array([[10, 30], #Cargador\n",
    "              [15, 27], #Router\n",
    "              [24, 14], #Cámara\n",
    "              [10, 22]]) #Alexa\n",
    "\n",
    "C = A + B\n",
    "print (C)\n"
   ]
  },
  {
   "cell_type": "markdown",
   "metadata": {},
   "source": [
    "Pregunta 11"
   ]
  },
  {
   "cell_type": "code",
   "execution_count": 1,
   "metadata": {},
   "outputs": [
    {
     "name": "stdout",
     "output_type": "stream",
     "text": [
      "[[1000 1800]\n",
      " [ 650 1550]]\n"
     ]
    }
   ],
   "source": [
    "import numpy as np\n",
    "\n",
    "#Cantidad de productos enviados desde dos bodegas a tres destinos\n",
    "              #D1   #D2  #D3\n",
    "A = np.array([[150, 300, 250], #B1\n",
    "              [250, 100, 200]]) #B2\n",
    "\n",
    "#Costo de envío por producto (en miles de pesos) al destino i en el año j (2023 - 2024)\n",
    "              #23 #24\n",
    "B = np.array([[1, 3], #D1\n",
    "              [2, 2], #D2\n",
    "              [1, 3]]) #D3\n",
    "\n",
    "C = np.dot(A, B)\n",
    "print(C)\n"
   ]
  },
  {
   "cell_type": "markdown",
   "metadata": {},
   "source": [
    "Pregunta 12"
   ]
  },
  {
   "cell_type": "code",
   "execution_count": null,
   "metadata": {},
   "outputs": [
    {
     "name": "stdout",
     "output_type": "stream",
     "text": [
      "[[60 69]\n",
      " [32 49]\n",
      " [10 14]]\n"
     ]
    }
   ],
   "source": [
    "import numpy as np\n",
    "\n",
    "#Información nutricional (en gramos) respecto a cada alimento\n",
    "              #Huevo #Jamon\n",
    "N = np.array([[13, 17], #Proteina\n",
    "              [11, 5], #Grasa\n",
    "              [3, 2]]) #Carbohidratos\n",
    "\n",
    "#Porciones por día necesarias para cumplir con el régimen\n",
    "              #D1 #D2\n",
    "C = np.array([[2, 4], #Huevo\n",
    "              [2, 1]]) #Jamon\n",
    "\n",
    "R = N@C\n",
    "print(R)\n",
    "        "
   ]
  },
  {
   "cell_type": "markdown",
   "metadata": {},
   "source": [
    "Pregunta 13"
   ]
  },
  {
   "cell_type": "code",
   "execution_count": null,
   "metadata": {},
   "outputs": [
    {
     "name": "stdout",
     "output_type": "stream",
     "text": [
      "[[351. 676. 559.]\n",
      " [494. 377. 780.]\n",
      " [195. 403. 468.]]\n"
     ]
    }
   ],
   "source": [
    "import numpy as np\n",
    "\n",
    "#Unidades fabricadas en abril\n",
    "              #P1 #P2  #P3\n",
    "I = np.array([[270, 520, 430], #C1\n",
    "              [380, 290, 600], #C2\n",
    "              [150, 310, 360]]) #C3\n",
    "\n",
    "print(I*1.3)\n"
   ]
  }
 ],
 "metadata": {
  "language_info": {
   "name": "python"
  }
 },
 "nbformat": 4,
 "nbformat_minor": 2
}
