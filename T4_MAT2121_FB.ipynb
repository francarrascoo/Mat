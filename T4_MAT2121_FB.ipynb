{
 "cells": [
  {
   "cell_type": "markdown",
   "metadata": {},
   "source": [
    "# Análisis de Datos Olímpicos: Puntuaciones y Proyecciones Matemáticas"
   ]
  },
  {
   "cell_type": "markdown",
   "metadata": {},
   "source": [
    "Durante los Juegos Olímpicos de París 2024, se registraron las puntuaciones máximas de los equipos de Estados Unidos, China y Francia en tres disciplinas deportivas: gimnasia artística, saltos ornamentales (clavados) y tiro con arco.\n",
    "\n",
    "El evento deportivo tuvo una duración de tres semanas, y se registraron las puntuaciones en las dos primeras semanas. Las matrices $A$ y $B$ representan las puntuaciones máximas de las semanas $1$ y $2$, respectivamente:\n",
    "\n",
    "<center>\n",
    "<img src=\"https://i.imgur.com/VkCRY9T.png\" style=\"width:50%\">\n",
    "</center>\n",
    "\n",
    "Donde los elementos $a_{ij}$ y $b_{ij}$ representan los puntos obtenidos por el país $i$ en la disciplina deportiva $j$, siguiendo el mismo orden en que se mencionaron en el párrafo anterior.\n",
    "\n",
    "Utiliza Python para responder las siguientes preguntas:\n",
    "\n",
    "1. Determina si los países mejoraron su desempeño en cada disciplina durante la segunda semana con respecto a la primera semana. Muestra los resultados en una matriz $D$ e interpreta el elemento $d_{23}$.\n",
    "1. Después de semanas de competencia la motivación de los deportistas se encuentra en su punto más alto. Debido a esto, analistas deportivos estimaron que en la tercera semana los deportistas podrían mejorar su rendimiento en torno a un $4\\%$ respecto a la primera semana. Representa los resultados que se proyectan para la última semana en la matriz $E$  e interpreta el elemento $e_{21}$. Redondea los resultados a la centésima.\n",
    "1. Uno de los criterios para determinar el país ganador en las Olimpiadas consiste en asignar puntos a cada tipo de medalla: $3$ puntos por una medalla de oro, $2$ puntos por una medalla de plata y $1$ punto por una medalla de bronce. Luego, se suman los puntos totales para determinar al país con mayor puntaje. Considera que los elementos $f_{ij}$ de la matriz $F$, según el orden en que se mencionan, representan el total de medallas de cada tipo $j$ (oro, plata y bronce) obtenidas por el país $i$ (Estados Unidos, China y Francia). Por otro lado, la matriz $G$ representa el puntaje asignado según el tipo de medalla.\n",
    "\n",
    "<center>\n",
    "<img src=\"https://i.imgur.com/bPCKq7i.png\" style=\"width:35%\">\n",
    "</center>\n",
    "\n",
    "$\\hspace{0.5 cm}$ Representa mediante una matriz $H$ el puntaje total obtenido por cada país e interpreta la diferencia $h_{11} - h_{21}$.\n",
    "\n",
    "4. Durante esta edición de los Juegos Olímpicos, un país obtuvo un total de $12$ medallas entre oro, plata y bronce, logrando un puntaje total de $18$ puntos ($3$ puntos por cada medalla de oro, $2$ puntos por cada medalla de plata y $1$ punto por cada medalla de bronce). Además, los deportistas de este país recibieron un aporte estatal de $52$ millones de pesos por cada medalla de oro, $39$ millones de pesos por cada medalla de plata y $19$ millones de pesos por cada medalla de bronce. Con estos datos, se plantea el siguiente sistema de ecuaciones:\n",
    "\n",
    "<center>\n",
    "<img src=\"https://i.imgur.com/jCNlXyF.png\" style=\"width:26%\">\n",
    "</center>\n",
    "\n",
    "\n",
    "$\\hspace{0.5 cm}$ Donde $x$, $y$ y $z$ representan la cantidad de medallas de oro, plata y bronce obtenidas por el país. Resuelve el sistema de ecuaciones utilizando matrices e interpreta los resultados obtenidos en el contexto del problema."
   ]
  },
  {
   "cell_type": "code",
   "execution_count": 1,
   "metadata": {},
   "outputs": [
    {
     "name": "stdout",
     "output_type": "stream",
     "text": [
      "[[ 0.2  0.2  0.3]\n",
      " [ 0.2  0.2  0.1]\n",
      " [-0.2 -0.2  0.4]]\n",
      "[[9.57 9.46 9.05]\n",
      " [9.78 9.88 9.36]\n",
      " [9.26 9.78 9.46]]\n",
      "[[240]\n",
      " [203]\n",
      " [152]]\n",
      "[[1.]\n",
      " [4.]\n",
      " [7.]]\n"
     ]
    }
   ],
   "source": [
    "import numpy as np\n",
    "\n",
    "             #G.A  #CLAV  #T.A\n",
    "A = np.array([[9.2, 9.1, 8.7], #EE.UU\n",
    "              [9.4, 9.5, 9.0], #China\n",
    "              [8.9, 9.4, 9.1]]) #Francia\n",
    "\n",
    "B = np.array([[9.4, 9.3, 9.0], #EE.UU\n",
    "              [9.6, 9.7, 9.1], #China\n",
    "              [8.7, 9.2, 9.5]]) #Francia\n",
    "\n",
    "D = B - A\n",
    "\n",
    "E = A * 1.04\n",
    "\n",
    "print(D)\n",
    "\n",
    "print(E.round(2))\n",
    "\n",
    "            #T.O  #T.P  #T.B\n",
    "F = np.array([[45, 38, 29], #EE.UU\n",
    "              [38, 32, 25], #China\n",
    "              [33, 17, 19]]) #Francia\n",
    "    #PTJE  \n",
    "G = ([[3], #O\n",
    "      [2], #P\n",
    "      [1]]) #B\n",
    "\n",
    "H = F@G\n",
    "\n",
    "print (H)\n",
    "\n",
    "I = np.array([[1, 1, 1],\n",
    "              [3, 2, 1], \n",
    "              [52, 39, 19]])\n",
    "\n",
    "J = np.array([[12], \n",
    "              [18],\n",
    "              [341]])\n",
    "\n",
    "I_i = np.linalg.inv(I)\n",
    " \n",
    "K = I_i @ J\n",
    "\n",
    "print(K)\n"
   ]
  },
  {
   "cell_type": "code",
   "execution_count": null,
   "metadata": {},
   "outputs": [],
   "source": [
    "# 1.- D = B - A\n",
    "#  G.A  CLAV  T.A\n",
    "# [ 0.2  0.2  0.3] EE.UU\n",
    "# [ 0.2  0.2  0.1] China\n",
    "# [-0.2 -0.2  0.4] Francia\n",
    "# Los paises mejoraron su desempeño la segunda semana a excepción de Francia en gimnasia artística y clavaos que diminuyó 0.2 puntos en ambas disciplinas\n",
    "# D23 = 0.1 / Indica que China mejoró su desempeño en tiro con arco en 0.1 la segunda semana en comparación a la primera\n",
    "\n",
    "# 2.- E = A * 1.04\n",
    "#  G.A  CLAV  T.A\n",
    "# [9.57 9.46 9.05] EE.UU\n",
    "# [9.78 9.88 9.36] China\n",
    "# [9.26 9.78 9.46] Francia\n",
    "# E21 = 9.78 / Indica que China mejoró en 0.38 en gimnasia artística la tercera semana en comparación a la primera\n",
    "\n",
    "#3.- H = F * G\n",
    "#   PTJE \n",
    "#  [240] EE.UU\n",
    "#  [203] China\n",
    "#  [152] Francia\n",
    "# H11 - H21 = 37 / Indica que EE.UU obtuvo 37 puntos más que China en los JJ.OO\n",
    "\n",
    "# 4.- K = I_i @ J\n",
    "# Cantidad de medallas obtenidas\n",
    "# [1] Oro\n",
    "# [4] Plata\n",
    "# [7] Bronce"
   ]
  }
 ],
 "metadata": {
  "kernelspec": {
   "display_name": "Python 3",
   "language": "python",
   "name": "python3"
  },
  "language_info": {
   "codemirror_mode": {
    "name": "ipython",
    "version": 3
   },
   "file_extension": ".py",
   "mimetype": "text/x-python",
   "name": "python",
   "nbconvert_exporter": "python",
   "pygments_lexer": "ipython3",
   "version": "3.12.3"
  }
 },
 "nbformat": 4,
 "nbformat_minor": 2
}
