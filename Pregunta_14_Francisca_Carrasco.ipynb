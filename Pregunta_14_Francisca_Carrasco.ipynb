{
 "cells": [
  {
   "cell_type": "markdown",
   "metadata": {},
   "source": [
    "Una empresa de redes vende dos tipos de conectores para confeccionar cables de red. El conector R45cat5 se vende a $700 la unidad y el conector R45cat6 se vende a $1.400 la unidad. Para asegurar una rentabilidad mínima en la empresa, el número total de conectores vendidos diariamente debe ser 80 y para lograr la venta objetivo diaria se debe asegurar obtener un ingreso de $70.000 por la venta de conectores. La situación anterior, se puede modelar a través del siguiente sistema de ecuaciones:"
   ]
  },
  {
   "cell_type": "markdown",
   "metadata": {},
   "source": [
    "700x + 1400y = 70000"
   ]
  },
  {
   "cell_type": "markdown",
   "metadata": {},
   "source": [
    "x + y = 80"
   ]
  },
  {
   "cell_type": "code",
   "execution_count": 16,
   "metadata": {},
   "outputs": [
    {
     "name": "stdout",
     "output_type": "stream",
     "text": [
      "[[60.]\n",
      " [20.]]\n"
     ]
    }
   ],
   "source": [
    "import numpy as np\n",
    "\n",
    "A = np.array([[700, 1400],\n",
    "              [1, 1]])\n",
    "\n",
    "B = np.array([[70000], \n",
    "              [80]])\n",
    "\n",
    "A_i = np.linalg.inv(A)\n",
    "\n",
    "C = A_i@B\n",
    "print(C)"
   ]
  },
  {
   "cell_type": "markdown",
   "metadata": {},
   "source": [
    "Para asegurar la rentabilidad mínima y lograr la venta objetivo diariao se deben vender 60 conectores R45cat5 y 20 conectores R45cat6.\n",
    "\n",
    "700 * 60 + 1400 * 20 = 70000"
   ]
  },
  {
   "cell_type": "markdown",
   "metadata": {},
   "source": [
    "60 + 20 = 80"
   ]
  }
 ],
 "metadata": {
  "language_info": {
   "name": "python"
  }
 },
 "nbformat": 4,
 "nbformat_minor": 2
}
