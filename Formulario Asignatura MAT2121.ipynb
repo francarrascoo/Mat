{
 "cells": [
  {
   "cell_type": "markdown",
   "metadata": {
    "id": "ftkkQrMOq_9F"
   },
   "source": [
    "## Formulario Matemática Aplicada - MAT2121"
   ]
  },
  {
   "cell_type": "markdown",
   "metadata": {
    "id": "QNFbElaFq_9H"
   },
   "source": [
    "### Experiencia de Aprendizaje 1"
   ]
  },
  {
   "cell_type": "markdown",
   "metadata": {
    "id": "Hxw5oPx5q_9H"
   },
   "source": [
    "#### Importar bibliotecas o librerías"
   ]
  },
  {
   "cell_type": "code",
   "execution_count": 2,
   "metadata": {
    "id": "YeDN3PSiq_9I"
   },
   "outputs": [],
   "source": [
    "import numpy as np\n",
    "import matplotlib.pyplot as plt\n",
    "from scipy.optimize import fsolve"
   ]
  },
  {
   "cell_type": "markdown",
   "metadata": {
    "id": "tZgtdNASq_9I"
   },
   "source": [
    "#### Manipulación de listas"
   ]
  },
  {
   "cell_type": "code",
   "execution_count": null,
   "metadata": {
    "id": "PApDhBxiq_9J"
   },
   "outputs": [],
   "source": [
    "lista = [1, 2, 3, 4]\n",
    "primer_elemento = lista[0] #Muestra el 1\n",
    "ultimo_elemento = lista[-1] #Muestra el 4"
   ]
  },
  {
   "cell_type": "markdown",
   "metadata": {
    "id": "SULDVwsOq_9J"
   },
   "source": [
    "#### Definición de una función"
   ]
  },
  {
   "cell_type": "code",
   "execution_count": null,
   "metadata": {
    "id": "xE23PPRjq_9J"
   },
   "outputs": [],
   "source": [
    "def suma(a, b):\n",
    "    return a + b"
   ]
  },
  {
   "cell_type": "markdown",
   "metadata": {
    "id": "tq7A6kmoq_9K"
   },
   "source": [
    "#### Llamar a una función"
   ]
  },
  {
   "cell_type": "code",
   "execution_count": null,
   "metadata": {
    "id": "BD7Od4Myq_9K"
   },
   "outputs": [],
   "source": [
    "resultado = suma(3, 4) # el valor de resultado será 7"
   ]
  },
  {
   "cell_type": "markdown",
   "metadata": {
    "id": "zoxHhQwQq_9K"
   },
   "source": [
    "#### Graficar una función"
   ]
  },
  {
   "cell_type": "code",
   "execution_count": null,
   "metadata": {
    "id": "RRxCfpqfq_9K"
   },
   "outputs": [],
   "source": [
    "def f(x):\n",
    "    return # función a graficar\n",
    "\n",
    "x = np.arange(valor inicial, valor final, paso)\n",
    "plt.plot(x, f(x), label = 'f(x)')\n",
    "plt.title('Nombre del gráfico')\n",
    "plt.ylabel('Nombre eje y')\n",
    "plt.xlabel('Nombre eje x')\n",
    "plt.legend()\n",
    "plt.show()"
   ]
  },
  {
   "cell_type": "markdown",
   "metadata": {
    "id": "y9c0y3zKq_9K"
   },
   "source": [
    "#### Encontrar raíces de una función"
   ]
  },
  {
   "cell_type": "code",
   "execution_count": null,
   "metadata": {
    "id": "Lzy8snXvq_9K"
   },
   "outputs": [],
   "source": [
    "def f(x):\n",
    "    return #'función igualada a cero'\n",
    "\n",
    "#Valor/es inicial/es de la aproximación\n",
    "xo = np.linspace(valor inicial, valor final, cantidad de valores del arreglo)\n",
    "solucion = fsolve(f, xo)\n",
    "\n"
   ]
  },
  {
   "cell_type": "markdown",
   "metadata": {
    "id": "X_4fJPtzrTGm"
   },
   "source": [
    "#### Encontrar forma algebraica de una función lineal"
   ]
  },
  {
   "cell_type": "code",
   "execution_count": null,
   "metadata": {
    "id": "UtciKE_arSxf"
   },
   "outputs": [],
   "source": [
    "x = np.array([valor 1, valor 2, valor 3, …, valor n])\n",
    "y = np.array([valor 1, valor 2, valor 3, …, valor n])\n",
    "\n",
    "#Si la función es de grado 1\n",
    "pendiente, intercepto = np.polyfit(x, y, 1)"
   ]
  },
  {
   "cell_type": "markdown",
   "metadata": {
    "id": "6V0PGWTqq_9L"
   },
   "source": [
    "#### Llamado de número Euler en funciones"
   ]
  },
  {
   "cell_type": "markdown",
   "metadata": {
    "id": "9cZHF8Hmq_9L"
   },
   "source": [
    "**Ejemplo**: **$e^{2}$**"
   ]
  },
  {
   "cell_type": "code",
   "execution_count": null,
   "metadata": {
    "id": "amzxIurlq_9L"
   },
   "outputs": [],
   "source": [
    "#FORMA 1\n",
    "#1) Importando la biblioteca numpy:\n",
    "\n",
    "import numpy as np\n",
    "\n",
    "np.exp(2)"
   ]
  },
  {
   "cell_type": "code",
   "execution_count": null,
   "metadata": {
    "id": "YSJ1WLA8q_9L"
   },
   "outputs": [],
   "source": [
    "#FORMA 2\n",
    "#2) Importando e desde la biblioteca math:\n",
    "\n",
    "from math import e\n",
    "e**(2)"
   ]
  },
  {
   "cell_type": "markdown",
   "metadata": {
    "id": "yvCZr72mq_9L"
   },
   "source": [
    "### Experiencia de Aprendizaje 2"
   ]
  },
  {
   "cell_type": "markdown",
   "metadata": {
    "id": "_H31REDlq_9M"
   },
   "source": [
    "#### Importar bibliotecas o librerías"
   ]
  },
  {
   "cell_type": "code",
   "execution_count": null,
   "metadata": {
    "id": "s_iVVfriq_9M"
   },
   "outputs": [],
   "source": [
    "import numpy as np"
   ]
  },
  {
   "cell_type": "markdown",
   "metadata": {
    "id": "QkA24E9Oq_9M"
   },
   "source": [
    "#### Sucesiones"
   ]
  },
  {
   "cell_type": "markdown",
   "metadata": {
    "id": "PvKTjCoyq_9M"
   },
   "source": [
    "Término general de sucesión aritmética:\n",
    "\n",
    "$$a_{n} = a_{1} + (n - 1)\\cdot d$$\n",
    "\n",
    "Término general de sucesión geométrica:\n",
    "\n",
    "$$a_{n} = a_{1} \\cdot r^{n-1}$$"
   ]
  },
  {
   "cell_type": "code",
   "execution_count": null,
   "metadata": {
    "id": "IV_35o8vq_9M"
   },
   "outputs": [],
   "source": [
    "#Creación de sucesiones con listas\n",
    "sucesion = []\n",
    "for i in range(Cantidad de valores a mostrar):\n",
    "    n = i + 1\n",
    "    sucesion.append(Término general)\n",
    "    print(f'El término {n} es {sucesion[i]}')\n",
    "\n",
    "\n",
    "#Suma de términos de una lista\n",
    "suma = sum(sucesion)"
   ]
  },
  {
   "cell_type": "markdown",
   "metadata": {
    "id": "Ep63SYJkq_9M"
   },
   "source": [
    "#### Matrices y aplicaciones"
   ]
  },
  {
   "cell_type": "code",
   "execution_count": null,
   "metadata": {
    "id": "mEePTIemq_9M"
   },
   "outputs": [],
   "source": [
    "#Definición de matrices en Python\n",
    "A = np.array([[elemento, elemento],\n",
    "              [elemento, elemento]])\n",
    "\n",
    "B = np.array([[elemento, elemento],\n",
    "              [elemento, elemento]])\n",
    "\n",
    "#Suma de matrices\n",
    "S = A + B\n",
    "\n",
    "#Resta de matrices\n",
    "D = B - A\n",
    "\n",
    "#Transpuesta de una matriz\n",
    "T = B.T\n",
    "\n",
    "#Multiplicación de matrices\n",
    "M = np.dot(A, B)\n"
   ]
  },
  {
   "cell_type": "markdown",
   "metadata": {
    "id": "5i2hNUy8q_9N"
   },
   "source": [
    "#### Creación de matrices mediante función sobre los índices"
   ]
  },
  {
   "cell_type": "code",
   "execution_count": null,
   "metadata": {
    "id": "o3CCwR-dq_9N"
   },
   "outputs": [],
   "source": [
    "\n",
    "D = np.fromfunction(lambda i, j: función sobre los índices, (orden de la matriz))\n",
    "E = np.fromfunction(lambda i, j: función sobre los índices, (orden de la matriz))"
   ]
  },
  {
   "cell_type": "markdown",
   "metadata": {
    "id": "nf7pqrDDq_9N"
   },
   "source": [
    "#### Inversa de una matriz"
   ]
  },
  {
   "cell_type": "code",
   "execution_count": null,
   "metadata": {
    "id": "UfQiOWOkq_9N"
   },
   "outputs": [],
   "source": [
    "\n",
    "F = np.array([[elemento, elemento],\n",
    "              [elemento, elemento]])\n",
    "\n",
    "F_inv = np.linalg.inv(F)"
   ]
  }
 ],
 "metadata": {
  "colab": {
   "provenance": []
  },
  "kernelspec": {
   "display_name": "Python 3",
   "language": "python",
   "name": "python3"
  },
  "language_info": {
   "codemirror_mode": {
    "name": "ipython",
    "version": 3
   },
   "file_extension": ".py",
   "mimetype": "text/x-python",
   "name": "python",
   "nbconvert_exporter": "python",
   "pygments_lexer": "ipython3",
   "version": "3.12.4"
  }
 },
 "nbformat": 4,
 "nbformat_minor": 0
}
