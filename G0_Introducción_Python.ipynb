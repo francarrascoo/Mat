{
  "cells": [
    {
      "cell_type": "markdown",
      "metadata": {
        "id": "t48ZzDLtux0T"
      },
      "source": [
        "# Problema 1"
      ]
    },
    {
      "cell_type": "markdown",
      "metadata": {
        "id": "cWCfLm-fvNTx"
      },
      "source": [
        "Escribe un código que pida al usuario ingresar un número real y determine si el número ingresado es positivo, negativo o cero."
      ]
    },
    {
      "cell_type": "code",
      "execution_count": 3,
      "metadata": {},
      "outputs": [
        {
          "name": "stdout",
          "output_type": "stream",
          "text": [
            "1.- Determinar si un número es positivo, negativo o cero\n",
            "2.- Salir\n",
            "El numero ingresado es positivo\n",
            "1.- Determinar si un número es positivo, negativo o cero\n",
            "2.- Salir\n",
            "El numero ingresado es negativo\n",
            "1.- Determinar si un número es positivo, negativo o cero\n",
            "2.- Salir\n",
            "El numero ingresado es cero\n",
            "1.- Determinar si un número es positivo, negativo o cero\n",
            "2.- Salir\n"
          ]
        }
      ],
      "source": [
        "while True:\n",
        "    print (\"1.- Determinar si un número es positivo, negativo o cero\")\n",
        "    print (\"2.- Salir\")\n",
        "    try:\n",
        "        opcion = int(input(\"Ingrese una opción: \"))\n",
        "        if opcion == 1:\n",
        "            while True:\n",
        "                try:\n",
        "                    x = float(input(\"Ingrese un número: \"))   \n",
        "                    if x == 0:\n",
        "                        print(\"El numero ingresado es cero\")\n",
        "                        break\n",
        "                    elif x > 0:\n",
        "                        print(\"El numero ingresado es positivo\")\n",
        "                        break\n",
        "                    elif x < 0:\n",
        "                        print(\"El numero ingresado es negativo\")\n",
        "                        break\n",
        "                except:\n",
        "                    print(\"Ingrese un número.\")\n",
        "        elif opcion == 2:\n",
        "            break\n",
        "        else:\n",
        "            print(\"Opción no válida.\")\n",
        "    except:\n",
        "        print(\"Error: Ingrese un número válido.\")\n"
      ]
    },
    {
      "cell_type": "markdown",
      "metadata": {
        "id": "6civkm_Pwf1B"
      },
      "source": [
        "# Problema 2"
      ]
    },
    {
      "cell_type": "markdown",
      "metadata": {
        "id": "rjeAxtJ4x9h6"
      },
      "source": [
        "Escribe un código que pida al usuario ingresar un número entero y que determine si el número ingresado es par o impar.\n"
      ]
    },
    {
      "cell_type": "code",
      "execution_count": 6,
      "metadata": {},
      "outputs": [
        {
          "name": "stdout",
          "output_type": "stream",
          "text": [
            "1.- Determinar si un número es par o impar\n",
            "2.- Salir\n",
            "El número 2 es par\n",
            "1.- Determinar si un número es par o impar\n",
            "2.- Salir\n",
            "El número 35465 es impar\n",
            "1.- Determinar si un número es par o impar\n",
            "2.- Salir\n",
            "El número 0 es par\n",
            "1.- Determinar si un número es par o impar\n",
            "2.- Salir\n",
            "Ingrese un número válido.\n",
            "1.- Determinar si un número es par o impar\n",
            "2.- Salir\n",
            "Ingrese un número válido.\n",
            "1.- Determinar si un número es par o impar\n",
            "2.- Salir\n",
            "Ingrese un número válido.\n",
            "1.- Determinar si un número es par o impar\n",
            "2.- Salir\n"
          ]
        }
      ],
      "source": [
        "while True:\n",
        "    print(\"1.- Determinar si un número es par o impar\")\n",
        "    print(\"2.- Salir\")\n",
        "    try:\n",
        "        opcion = int(input(\"Ingrese una opción: \"))\n",
        "        if opcion == 1:\n",
        "            while True:\n",
        "                try:\n",
        "                    x = int(input(\"Ingrese un número: \"))\n",
        "                    if x % 2 == 0:\n",
        "                        print(f\"El número {x} es par\")\n",
        "                        break\n",
        "                    else:\n",
        "                        print(f\"El número {x} es impar\")\n",
        "                        break\n",
        "                except:\n",
        "                    print(\"Ingrese un número.\")\n",
        "        elif opcion == 2:\n",
        "            break\n",
        "        else:\n",
        "            print(\"Opción no válida.\")\n",
        "    except:\n",
        "        print(\"Ingrese un número válido.\")"
      ]
    },
    {
      "cell_type": "markdown",
      "metadata": {
        "id": "rLA34mTgxuSf"
      },
      "source": [
        "# Problema 3"
      ]
    },
    {
      "cell_type": "markdown",
      "metadata": {
        "id": "6E3zFuZSwigv"
      },
      "source": [
        "Escribe un código que, mediante un ciclo *while*, sume los primeros $100$ números naturales."
      ]
    },
    {
      "cell_type": "code",
      "execution_count": 7,
      "metadata": {},
      "outputs": [
        {
          "name": "stdout",
          "output_type": "stream",
          "text": [
            "5050\n"
          ]
        }
      ],
      "source": [
        "#FORMA 1\n",
        "x = 0\n",
        "for i in range (1, 101):\n",
        "    x += i\n",
        "print (x)\n"
      ]
    },
    {
      "cell_type": "code",
      "execution_count": 8,
      "metadata": {},
      "outputs": [
        {
          "name": "stdout",
          "output_type": "stream",
          "text": [
            "5050\n"
          ]
        }
      ],
      "source": [
        "#FORMA 2\n",
        "suma = 0\n",
        "num = 1\n",
        "\n",
        "while num <= 100:\n",
        "    suma += num\n",
        "    num += 1\n",
        "\n",
        "print(suma)"
      ]
    },
    {
      "cell_type": "markdown",
      "metadata": {
        "id": "pZpuARSKz4zw"
      },
      "source": [
        "# Problema 4"
      ]
    },
    {
      "cell_type": "markdown",
      "metadata": {
        "id": "SxGOLjlnz6y_"
      },
      "source": [
        "Escribe un código que almacene en una variable el *string* \"Contraseña\". Luego, el programa debe solicitar al usuario \"Introducir contraseña\", hasta que la palabra ingresada sea correcta. <sup><a href=\"#footnote1\" id=\"ref1\">1</a></sup>\n",
        "\n",
        "\n",
        "<p id=\"footnote1\"><sup>1</sup> String: Tipo de dato que almacena texto."
      ]
    },
    {
      "cell_type": "code",
      "execution_count": 12,
      "metadata": {},
      "outputs": [
        {
          "name": "stdout",
          "output_type": "stream",
          "text": [
            "1. Adivinar la contraseña\n",
            "2. Salir\n",
            "Ingrese un número válido.\n",
            "1. Adivinar la contraseña\n",
            "2. Salir\n",
            "Contraseña correcta.\n",
            "1. Adivinar la contraseña\n",
            "2. Salir\n"
          ]
        }
      ],
      "source": [
        "y = \"Contraseña\"\n",
        "while True:\n",
        "    print (\"1. Ingresar contraseña\")\n",
        "    print (\"2. Salir\")\n",
        "    try:\n",
        "        opcion = int(input(\"Ingrese una opción: \"))\n",
        "        if opcion == 1:\n",
        "            while True:\n",
        "                try:\n",
        "                    x = input(\"Ingrese la contraseña: \")\n",
        "                    if x.strip() == y:\n",
        "                        print(\"Contraseña correcta.\")\n",
        "                        break\n",
        "                    else:\n",
        "                        print(\"Contraseña incorrecta.\")\n",
        "                        break\n",
        "                except:\n",
        "                    print(\"Ingrese una contraseña.\")\n",
        "        elif opcion == 2:\n",
        "            break\n",
        "        else:\n",
        "            print(\"Opción no válida.\")\n",
        "    except:\n",
        "        print(\"Ingrese un número válido.\")\n"
      ]
    },
    {
      "cell_type": "markdown",
      "metadata": {
        "id": "bXAO6t1V1psK"
      },
      "source": [
        "# Problema 5"
      ]
    },
    {
      "cell_type": "markdown",
      "metadata": {
        "id": "nXwlwVHI11wC"
      },
      "source": [
        "Escribe un código que, utilizando un ciclo *for*, pida al usuario ingresar un número entero y muestre la tabla de multiplicar desde el 1 al 12 de dicho número."
      ]
    },
    {
      "cell_type": "code",
      "execution_count": 4,
      "metadata": {},
      "outputs": [
        {
          "name": "stdout",
          "output_type": "stream",
          "text": [
            "1.- Tabla de multiplicar de un número\n",
            "2.- Salir\n",
            "-3 x 1 = -3\n",
            "-3 x 2 = -6\n",
            "-3 x 3 = -9\n",
            "-3 x 4 = -12\n",
            "-3 x 5 = -15\n",
            "-3 x 6 = -18\n",
            "-3 x 7 = -21\n",
            "-3 x 8 = -24\n",
            "-3 x 9 = -27\n",
            "-3 x 10 = -30\n",
            "-3 x 11 = -33\n",
            "-3 x 12 = -36\n",
            "1.- Tabla de multiplicar de un número\n",
            "2.- Salir\n",
            "Error: Ingrese un número válido.\n",
            "1.- Tabla de multiplicar de un número\n",
            "2.- Salir\n",
            "Error: Ingrese un número válido.\n",
            "1.- Tabla de multiplicar de un número\n",
            "2.- Salir\n",
            "Ingrese un número válido.\n",
            "Ingrese un número válido.\n",
            "2 x 1 = 2\n",
            "2 x 2 = 4\n",
            "2 x 3 = 6\n",
            "2 x 4 = 8\n",
            "2 x 5 = 10\n",
            "2 x 6 = 12\n",
            "2 x 7 = 14\n",
            "2 x 8 = 16\n",
            "2 x 9 = 18\n",
            "2 x 10 = 20\n",
            "2 x 11 = 22\n",
            "2 x 12 = 24\n",
            "1.- Tabla de multiplicar de un número\n",
            "2.- Salir\n"
          ]
        }
      ],
      "source": [
        "while True:\n",
        "    print(\"1.- Tabla de multiplicar de un número\")\n",
        "    print(\"2.- Salir\")\n",
        "    try:\n",
        "        opcion = int(input(\"Ingrese una opción: \"))\n",
        "        if opcion == 1:\n",
        "            while True:\n",
        "                try:\n",
        "                    x = int(input(\"Ingrese un número entero: \"))\n",
        "                    for i in range (1,13):\n",
        "                        print(f\"{x} x {i} = {x*i}\")\n",
        "                    break\n",
        "                except:\n",
        "                    print(\"Ingrese un número válido.\")\n",
        "        elif opcion == 2:\n",
        "            break            \n",
        "    except:\n",
        "        print(\"Error: Ingrese un número válido.\")\n"
      ]
    },
    {
      "cell_type": "markdown",
      "metadata": {
        "id": "UroIuMyFCKax"
      },
      "source": [
        "# Problema 6"
      ]
    },
    {
      "cell_type": "markdown",
      "metadata": {
        "id": "VoiJyh0zCMzX"
      },
      "source": [
        "1. Escribe una función que reciba dos números y retorne el producto de los números recibidos.\n",
        "1. Escribe una nueva función que tome el producto calculado en el ítem anterior y redondee el valor al entero.\n",
        "1. Pide al usuario que ingrese dos números, y utiliza ambas funciones para imprimir el valor de la multiplicación redondeado al entero."
      ]
    },
    {
      "cell_type": "code",
      "execution_count": 3,
      "metadata": {},
      "outputs": [
        {
          "name": "stdout",
          "output_type": "stream",
          "text": [
            "1.- Calcular el producto de dos números\n",
            "2.- Salir\n",
            "El producto de 1.0 y 4.5756 es 4.5756\n",
            "El producto redondeado al entero es 5\n",
            "1.- Calcular el producto de dos números\n",
            "2.- Salir\n",
            "El producto de 1.0 y 4.49 es 4.49\n",
            "El producto redondeado al entero es 4\n",
            "1.- Calcular el producto de dos números\n",
            "2.- Salir\n"
          ]
        }
      ],
      "source": [
        "def producto (y,z):\n",
        "    producto = y * z\n",
        "    return  producto\n",
        "\n",
        "def y (producto):\n",
        "    redondeo = round(producto)\n",
        "    return redondeo\n",
        "\n",
        "while True:\n",
        "    print(\"1.- Calcular el producto de dos números\")\n",
        "    print(\"2.- Salir\")\n",
        "    try:\n",
        "        opcion = int(input(\"Ingrese una opción: \"))\n",
        "        if opcion == 1:\n",
        "            while True:\n",
        "                try:\n",
        "                    num1 = float(input(\"Ingrese el primer numero: \"))\n",
        "                    break\n",
        "                except:\n",
        "                    print (\"Ingrese un número válido.\")\n",
        "            while True:\n",
        "                try:\n",
        "                    num2 = float(input(\"Ingrese el segundo numero: \"))\n",
        "                    break\n",
        "                except:\n",
        "                    print (\"Ingrese un número válido.\")  \n",
        "            print (f\"El producto de {num1} y {num2} es {producto(num1,num2)}\")\n",
        "            print (f\"El producto redondeado al entero es {y(producto(num1,num2))}\")\n",
        "        elif opcion == 2:\n",
        "            break\n",
        "    except:\n",
        "        print (\"Ingrese un número válido.\")\n",
        "    \n"
      ]
    },
    {
      "cell_type": "markdown",
      "metadata": {
        "id": "GHMOEBgQDvUw"
      },
      "source": [
        "# Problema 7"
      ]
    },
    {
      "cell_type": "markdown",
      "metadata": {
        "id": "I77oq5plD50H"
      },
      "source": [
        "La fórmula que permite convertir los grados Celsius a Fahrenheit es la siguiente:\n",
        "\n",
        "$$ F = \\frac{9}{5} C + 32$$\n",
        "\n",
        "1. Crea una función que permita realizar esta conversión.\n",
        "1. Luego, pide al usuario que ingrese la temperatura en grados Celsius y utiliza la función para calcular su equivalente en grados Fahrenheit.\n",
        "1. Imprime el resultado redondeado a la centésima."
      ]
    },
    {
      "cell_type": "code",
      "execution_count": 3,
      "metadata": {},
      "outputs": [
        {
          "name": "stdout",
          "output_type": "stream",
          "text": [
            "1.- Convertir grados celcius a fahrenheit\n",
            "2.- Salir\n",
            "30.0°C equivalen a 86.00 grados fahrenheit\n",
            "1.- Convertir grados celcius a fahrenheit\n",
            "2.- Salir\n"
          ]
        }
      ],
      "source": [
        "def conversion ():\n",
        "    f = x * 9/5 + 32\n",
        "    print(f\"{x}°C equivalen a {f:.2f} grados fahrenheit\")\n",
        "\n",
        "while True:\n",
        "    print(\"1.- Convertir grados celcius a fahrenheit\")\n",
        "    print(\"2.- Salir\")\n",
        "    try:\n",
        "        opcion = int(input(\"Ingrese una opción: \"))\n",
        "        if opcion == 1:\n",
        "            while True:\n",
        "                try:\n",
        "                    x = float(input(\"Ingrese la temperatura en grados celcius: \"))\n",
        "                    conversion()\n",
        "                    break\n",
        "                except:\n",
        "                    print(\"Ingrese un número válido.\")\n",
        "        elif opcion == 2:\n",
        "            break\n",
        "        else:\n",
        "            print(\"Opción no válida.\")\n",
        "    except:\n",
        "        print(\"Error: Ingrese un número válido.\")"
      ]
    },
    {
      "cell_type": "markdown",
      "metadata": {
        "id": "yC4Sju1KGQFn"
      },
      "source": [
        "# Problema 8"
      ]
    },
    {
      "cell_type": "markdown",
      "metadata": {
        "id": "Qw6j4zbSG0NH"
      },
      "source": [
        "1. Escribe un código que importe el módulo *random* y utiliza la función *randint()* para generar diez números aleatorios entre $1$ y $100$, y almacénalos en una lista.\n",
        "1. Imprime en pantalla la lista con los diez números generados.\n",
        "1. Utiliza la indexación en *Python* para acceder al segundo y sexto elemento de la lista. Ten en cuenta que en *Python* los índices comienzan en $0$. ¿Cómo imprimirías estos elementos?"
      ]
    },
    {
      "cell_type": "code",
      "execution_count": 6,
      "metadata": {},
      "outputs": [
        {
          "name": "stdout",
          "output_type": "stream",
          "text": [
            "[83, 43, 40, 24, 70, 63, 40, 12, 77, 11]\n",
            "Segundo numero: 43 \n",
            "Sexto numero: 63\n"
          ]
        }
      ],
      "source": [
        "import random\n",
        "y = []\n",
        "for i in range (1,11):\n",
        "    x = random.randint(1,100)\n",
        "    y.append(x)\n",
        "print (y)\n",
        "print(\"Segundo numero:\", y[1],\"\\nSexto numero:\" , y[5])\n"
      ]
    },
    {
      "cell_type": "markdown",
      "metadata": {
        "id": "qlwdqEfzHrL_"
      },
      "source": [
        "# Problema 9"
      ]
    },
    {
      "cell_type": "markdown",
      "metadata": {
        "id": "iqH0iITmJH-P"
      },
      "source": [
        "El Índice de Masa Corporal (IMC) es una medida que se utiliza para evaluar si una persona se encuentra en un peso saludable con respecto a su estatura. La fórmula para calcular esta medida es:\n",
        "\n",
        "<br>\n",
        "\n",
        "$$ \\textrm{IMC} = \\frac{\\textrm{peso} \\ \\ (\\textrm{kg})}{(\\textrm{altura} \\ \\ (\\textrm{m}))^{2}}$$\n",
        "\n",
        "<br>\n",
        "\n",
        "El valor obtenido con el IMC, de acuerdo con la Organización Mundial de la Salud (OMS) indica si la persona tiene un peso bajo, normal, sobrepeso u obesidad. La clasificación es la siguiente:\n",
        "\n",
        "<br>\n",
        "\n",
        "* Bajo peso: IMC menor a $18,5 \\ \\  \\textrm{kg/m}^{2}$\n",
        "* Peso normal: IMC entre $18,5 \\ \\ \\textrm{kg/m}^{2}$ y $24,9 \\ \\ \\textrm{kg/m}^{2}$\n",
        "* Sobrepeso: IMC entre $25 \\ \\ \\textrm{kg/m}^{2}$ y $29,9 \\ \\ \\textrm{kg/m}^{2}$\n",
        "* Obesidad: IMC de $30 \\ \\ \\textrm{kg/m}^{2}$ o mayor\n",
        "\n",
        "<br>\n",
        "\n",
        "Aunque el IMC es una forma eficaz de evaluar el peso, no tiene en cuenta factores como la distribución de grasa, la masa muscular y otros rasgos de la salud física.\n",
        "\n",
        "<br>\n",
        "\n",
        "1. Considerando la información entregada, implementa un código que permita calcular mediante una función, el valor del IMC de una persona. Luego, solicita al usuario valores de masa y altura e indica, mediante el uso de condicionales, la categoría de la persona según el IMC calculado.\n",
        "1. Considera la siguiente tabla de valores, que muestra el peso y el IMC de once estudiantes. Guarda los valores del IMC en una lista e imprime en pantalla los estudiantes que, según el criterio de la OMS, están en **bajo peso**. Además, para cada IMC que esté en bajo peso, índica también el índice en la lista donde se encuentra.\n",
        "\n",
        "<p><center>\n",
        "\n",
        "| N°      | Peso $(\\textrm{kg})$ | IMC $(\\textrm{kg/m}^{2})$|\n",
        "|---------|----------------------|--------------------------|\n",
        "|$$ 1 $$  | $$29,5 $$            | $$16,43$$                |\n",
        "|$$ 2 $$  | $$37,3 $$            | $$19,31$$                |\n",
        "|$$ 3 $$  | $$38   $$            | $$10,25$$                |\n",
        "|$$ 4 $$  | $$31   $$            | $$18,63$$                |\n",
        "|$$ 5 $$  | $$36   $$            | $$17,85$$                |\n",
        "|$$ 6 $$  | $$40,4 $$            | $$19,76$$                |\n",
        "|$$ 7 $$  | $$47   $$            | $$23,64$$                |\n",
        "|$$ 8 $$  | $$43   $$            | $$21,94$$                |\n",
        "|$$ 9 $$  | $$36   $$            | $$21,3 $$                |\n",
        "|$$ 10$$  | $$40,1 $$            | $$22,67$$                |\n",
        "|$$ 11$$  | $$27   $$            | $$16,48$$                |\n",
        "\n",
        "</center></p>\n",
        "\n"
      ]
    },
    {
      "cell_type": "code",
      "execution_count": 7,
      "metadata": {},
      "outputs": [
        {
          "name": "stdout",
          "output_type": "stream",
          "text": [
            "1.- Calcular IMC\n",
            "2.- Desplegar IMC de estudiantes\n",
            "3.- Salir\n",
            "IMC del estudiante n° 1 es 16.43\n",
            "IMC del estudiante n° 2 es 19.31\n",
            "IMC del estudiante n° 3 es 10.25\n",
            "IMC del estudiante n° 4 es 18.63\n",
            "IMC del estudiante n° 5 es 17.85\n",
            "IMC del estudiante n° 6 es 19.76\n",
            "IMC del estudiante n° 7 es 23.64\n",
            "IMC del estudiante n° 8 es 21.94\n",
            "IMC del estudiante n° 9 es 21.3\n",
            "IMC del estudiante n° 10 es 22.67\n",
            "IMC del estudiante n° 11 es 16.48\n",
            "El estudiante n°1 está en bajo peso con un IMC de 16.43\n",
            "El estudiante n°3 está en bajo peso con un IMC de 10.25\n",
            "El estudiante n°5 está en bajo peso con un IMC de 17.85\n",
            "El estudiante n°11 está en bajo peso con un IMC de 16.48\n"
          ]
        }
      ],
      "source": [
        "def imc(altura, peso):\n",
        "    return peso / altura ** 2\n",
        "\n",
        "def cat(imc):\n",
        "    if imc < 18.5:\n",
        "        return \"Bajo peso\"\n",
        "    elif 18.5 <= imc < 24.9:\n",
        "        return \"Peso normal\"\n",
        "    elif 25 <= imc < 29.9:\n",
        "        return \"Sobrepeso\"\n",
        "    else:\n",
        "        return \"Obesidad\"\n",
        "\n",
        "while True:\n",
        "    print(\"1.- Calcular IMC\")\n",
        "    print(\"2.- Desplegar IMC de estudiantes\")\n",
        "    print(\"3.- Salir\")\n",
        "    try:\n",
        "        opcion = int(input(\"Ingrese una opción: \"))\n",
        "        if opcion == 1:\n",
        "            while True:\n",
        "                try:\n",
        "                    altura = float(input(\"Ingrese su altura en metros: \"))\n",
        "                    break\n",
        "                except:\n",
        "                    print(\"Ingrese un número válido.\")\n",
        "            while True:\n",
        "                try:\n",
        "                    peso = float(input(\"Ingrese su peso en kilogramos: \"))\n",
        "                    break\n",
        "                except:\n",
        "                    print(\"Ingrese un número válido.\")\n",
        "            imc_calculado= imc(altura, peso)\n",
        "            categoria = cat(imc_calculado)\n",
        "            print(f\"Su índice de masa corporal es: {imc_calculado:.2f}\")\n",
        "            print(f\"Categoría según la OMS: {categoria}\")\n",
        "            break\n",
        "        elif opcion == 2: \n",
        "            imc_est = [16.43, 19.31, 10.25, 18.63, 17.85, 19.76, 23.64, 21.94, 21.3, 22.67, 16.48]\n",
        "            bajo_peso = 18.5\n",
        "            for i in range(len(imc_est)):\n",
        "                print(\"IMC del estudiante n°\", i+1, \"es\", imc_est[i])\n",
        "            for i, imc in enumerate(imc_est):\n",
        "                if imc < bajo_peso:\n",
        "                    print(f\"El estudiante n°{i+1} está en bajo peso con un IMC de {imc}\")\n",
        "            break\n",
        "        elif opcion == 3:\n",
        "            break\n",
        "        else:\n",
        "            print(\"Opción no válida.\")\n",
        "    except:\n",
        "        print(\"Ingrese un número válido.\")\n",
        "\n"
      ]
    }
  ],
  "metadata": {
    "colab": {
      "provenance": [],
      "toc_visible": true
    },
    "kernelspec": {
      "display_name": "Python 3",
      "name": "python3"
    },
    "language_info": {
      "codemirror_mode": {
        "name": "ipython",
        "version": 3
      },
      "file_extension": ".py",
      "mimetype": "text/x-python",
      "name": "python",
      "nbconvert_exporter": "python",
      "pygments_lexer": "ipython3",
      "version": "3.12.3"
    }
  },
  "nbformat": 4,
  "nbformat_minor": 0
}
